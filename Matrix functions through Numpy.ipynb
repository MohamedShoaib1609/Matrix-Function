{
 "cells": [
  {
   "cell_type": "markdown",
   "id": "14a101bf-470e-44f9-b7c9-4a35cb3eeb4b",
   "metadata": {},
   "source": [
    "# Numpy "
   ]
  },
  {
   "cell_type": "code",
   "execution_count": 2,
   "id": "58e87d73-669f-40f7-9383-c29ed9be76fa",
   "metadata": {},
   "outputs": [],
   "source": [
    "import numpy as np"
   ]
  },
  {
   "cell_type": "code",
   "execution_count": 3,
   "id": "30da884f-135b-4506-97bb-b7415eac413b",
   "metadata": {},
   "outputs": [
    {
     "name": "stdout",
     "output_type": "stream",
     "text": [
      "[12 23 31 42]\n"
     ]
    }
   ],
   "source": [
    "a=np.array([12,23,31,42])\n",
    "print(a)"
   ]
  },
  {
   "cell_type": "code",
   "execution_count": 4,
   "id": "06cb3f6f-6c47-4698-b6df-f74dab24db36",
   "metadata": {},
   "outputs": [
    {
     "data": {
      "text/plain": [
       "numpy.ndarray"
      ]
     },
     "execution_count": 4,
     "metadata": {},
     "output_type": "execute_result"
    }
   ],
   "source": [
    "type(a)"
   ]
  },
  {
   "cell_type": "code",
   "execution_count": 5,
   "id": "e34a5d73-8f66-49e1-b205-8f23eca06872",
   "metadata": {},
   "outputs": [
    {
     "data": {
      "text/plain": [
       "2214177003664"
      ]
     },
     "execution_count": 5,
     "metadata": {},
     "output_type": "execute_result"
    }
   ],
   "source": [
    "id(a)"
   ]
  },
  {
   "cell_type": "code",
   "execution_count": 6,
   "id": "9293cc71-bc59-4e1a-9731-4c5c2732cab5",
   "metadata": {},
   "outputs": [
    {
     "name": "stdout",
     "output_type": "stream",
     "text": [
      "[[ 1  2  3  4  5]\n",
      " [ 6  7  8  9 10]]\n"
     ]
    }
   ],
   "source": [
    "b=np.array([[1,2,3,4,5],[6,7,8,9,10]])\n",
    "print(b)"
   ]
  },
  {
   "cell_type": "code",
   "execution_count": 7,
   "id": "506f2611-0793-4548-952d-b079734b3ba7",
   "metadata": {},
   "outputs": [],
   "source": [
    "c=np.array([[1,2,3,4,5],[6,7,8,9,10],[11,12,13,14,15],[16,17,18,19,20]])"
   ]
  },
  {
   "cell_type": "code",
   "execution_count": 8,
   "id": "a459a43d-c6a8-446f-859c-35c2aeffaf49",
   "metadata": {},
   "outputs": [
    {
     "name": "stdout",
     "output_type": "stream",
     "text": [
      "[[ 1  2  3  4  5]\n",
      " [ 6  7  8  9 10]\n",
      " [11 12 13 14 15]\n",
      " [16 17 18 19 20]]\n"
     ]
    }
   ],
   "source": [
    "print(c)"
   ]
  },
  {
   "cell_type": "markdown",
   "id": "9dce872a-9878-4fcd-8074-08c30c2697de",
   "metadata": {},
   "source": [
    "## Data types in Arrays"
   ]
  },
  {
   "cell_type": "code",
   "execution_count": 10,
   "id": "4c76f59a-46d3-4812-adc3-54e5f2221814",
   "metadata": {},
   "outputs": [
    {
     "data": {
      "text/plain": [
       "array([12., 13., 14.])"
      ]
     },
     "execution_count": 10,
     "metadata": {},
     "output_type": "execute_result"
    }
   ],
   "source": [
    "np.array([12,13,14],dtype=float)  #float"
   ]
  },
  {
   "cell_type": "code",
   "execution_count": 11,
   "id": "df54b1fd-daba-40f1-8a18-736e46a3c274",
   "metadata": {},
   "outputs": [
    {
     "data": {
      "text/plain": [
       "array([11.+0.j, 12.+0.j, 13.+0.j])"
      ]
     },
     "execution_count": 11,
     "metadata": {},
     "output_type": "execute_result"
    }
   ],
   "source": [
    "np.array([11,12,13],dtype=complex) # complex"
   ]
  },
  {
   "cell_type": "code",
   "execution_count": 12,
   "id": "780ea088-fc42-4a9a-b531-7c961444830f",
   "metadata": {},
   "outputs": [
    {
     "data": {
      "text/plain": [
       "array([False,  True,  True])"
      ]
     },
     "execution_count": 12,
     "metadata": {},
     "output_type": "execute_result"
    }
   ],
   "source": [
    "np.array([0,1,10],dtype=bool) # boolean"
   ]
  },
  {
   "cell_type": "markdown",
   "id": "a1b36d3d-4097-448d-8f23-bb537ec243ed",
   "metadata": {},
   "source": [
    "## Sequence Arranging"
   ]
  },
  {
   "cell_type": "code",
   "execution_count": 14,
   "id": "20cd3409-b44d-4446-a32f-3044ac5a2859",
   "metadata": {},
   "outputs": [],
   "source": [
    "x=np.arange(1,10)"
   ]
  },
  {
   "cell_type": "code",
   "execution_count": 15,
   "id": "5c25933c-f1ff-4502-9ef7-c3b137fb5c54",
   "metadata": {},
   "outputs": [
    {
     "name": "stdout",
     "output_type": "stream",
     "text": [
      "[1 2 3 4 5 6 7 8 9]\n"
     ]
    }
   ],
   "source": [
    "print(x)"
   ]
  },
  {
   "cell_type": "code",
   "execution_count": 16,
   "id": "22612512-9e50-4221-87ce-fba4e91c7b07",
   "metadata": {},
   "outputs": [],
   "source": [
    "x=np.arange(1,20,2) #skipping the numbers"
   ]
  },
  {
   "cell_type": "code",
   "execution_count": 17,
   "id": "28c247b9-5a2e-4b10-9a68-21706024d964",
   "metadata": {},
   "outputs": [
    {
     "name": "stdout",
     "output_type": "stream",
     "text": [
      "[ 1  3  5  7  9 11 13 15 17 19]\n"
     ]
    }
   ],
   "source": [
    "print(x)"
   ]
  },
  {
   "cell_type": "markdown",
   "id": "21568f36-b781-4374-9b82-b36b93d29327",
   "metadata": {},
   "source": [
    "## Reshape "
   ]
  },
  {
   "cell_type": "code",
   "execution_count": 19,
   "id": "b150e904-9b4c-451d-a37a-010b1fb8a32a",
   "metadata": {},
   "outputs": [
    {
     "name": "stdout",
     "output_type": "stream",
     "text": [
      "[[ 1  2  3  4]\n",
      " [ 5  6  7  8]\n",
      " [ 9 10 11 12]]\n"
     ]
    }
   ],
   "source": [
    "m=np.arange(1,13).reshape(3,4)\n",
    "print(m)"
   ]
  },
  {
   "cell_type": "code",
   "execution_count": 20,
   "id": "f2225abe-f617-420f-9eca-71f34eed8ca6",
   "metadata": {},
   "outputs": [
    {
     "data": {
      "text/plain": [
       "array([[ 1,  2],\n",
       "       [ 3,  4],\n",
       "       [ 5,  6],\n",
       "       [ 7,  8],\n",
       "       [ 9, 10]])"
      ]
     },
     "execution_count": 20,
     "metadata": {},
     "output_type": "execute_result"
    }
   ],
   "source": [
    "np.arange(1,11).reshape(5,2)"
   ]
  },
  {
   "cell_type": "code",
   "execution_count": 21,
   "id": "bd40034d-2e21-40b6-b777-d1b6701a3e22",
   "metadata": {},
   "outputs": [
    {
     "data": {
      "text/plain": [
       "array([[ 1,  2,  3,  4],\n",
       "       [ 5,  6,  7,  8],\n",
       "       [ 9, 10, 11, 12],\n",
       "       [13, 14, 15, 16],\n",
       "       [17, 18, 19, 20]])"
      ]
     },
     "execution_count": 21,
     "metadata": {},
     "output_type": "execute_result"
    }
   ],
   "source": [
    "np.arange(1,21).reshape(5,4)"
   ]
  },
  {
   "cell_type": "code",
   "execution_count": 22,
   "id": "ea02052f-bf45-4976-8d18-e677a8e10812",
   "metadata": {},
   "outputs": [
    {
     "data": {
      "text/plain": [
       "array([[1, 2, 3],\n",
       "       [4, 5, 6],\n",
       "       [7, 8, 9]])"
      ]
     },
     "execution_count": 22,
     "metadata": {},
     "output_type": "execute_result"
    }
   ],
   "source": [
    "np.arange(1,10).reshape(3,3)"
   ]
  },
  {
   "cell_type": "code",
   "execution_count": 23,
   "id": "03f67a7d-3bd1-4f73-8da2-3d3601fb185f",
   "metadata": {},
   "outputs": [
    {
     "data": {
      "text/plain": [
       "array([[[ 0,  1],\n",
       "        [ 2,  3]],\n",
       "\n",
       "       [[ 4,  5],\n",
       "        [ 6,  7]],\n",
       "\n",
       "       [[ 8,  9],\n",
       "        [10, 11]],\n",
       "\n",
       "       [[12, 13],\n",
       "        [14, 15]],\n",
       "\n",
       "       [[16, 17],\n",
       "        [18, 19]],\n",
       "\n",
       "       [[20, 21],\n",
       "        [22, 23]]])"
      ]
     },
     "execution_count": 23,
     "metadata": {},
     "output_type": "execute_result"
    }
   ],
   "source": [
    "f=np.arange(24).reshape(6,2,2)  # number of matrix ,rows,column\n",
    "f"
   ]
  },
  {
   "cell_type": "markdown",
   "id": "c048426d-322c-422f-af16-7946b314c3a3",
   "metadata": {},
   "source": [
    "## Matrix with all '0' and '1'"
   ]
  },
  {
   "cell_type": "code",
   "execution_count": 25,
   "id": "733658f7-f331-401e-bf25-cff15b2c50df",
   "metadata": {},
   "outputs": [
    {
     "data": {
      "text/plain": [
       "array([[1, 1, 1],\n",
       "       [1, 1, 1],\n",
       "       [1, 1, 1]])"
      ]
     },
     "execution_count": 25,
     "metadata": {},
     "output_type": "execute_result"
    }
   ],
   "source": [
    "np.ones((3,3),dtype=int) #used int to avoid decimal point"
   ]
  },
  {
   "cell_type": "code",
   "execution_count": 26,
   "id": "6cda4463-c8bb-4422-bbcc-a1e043de52ea",
   "metadata": {},
   "outputs": [
    {
     "data": {
      "text/plain": [
       "array([[0, 0, 0, 0],\n",
       "       [0, 0, 0, 0],\n",
       "       [0, 0, 0, 0],\n",
       "       [0, 0, 0, 0]])"
      ]
     },
     "execution_count": 26,
     "metadata": {},
     "output_type": "execute_result"
    }
   ],
   "source": [
    "np.zeros((4,4),dtype=int)"
   ]
  },
  {
   "cell_type": "markdown",
   "id": "8a08da8d-9cab-4418-8b83-806cee0157a9",
   "metadata": {},
   "source": [
    "## Random numbers in matrix"
   ]
  },
  {
   "cell_type": "code",
   "execution_count": 28,
   "id": "b43fd604-f5a6-4da1-bf02-1fabe53fa55a",
   "metadata": {},
   "outputs": [
    {
     "data": {
      "text/plain": [
       "array([[0.41056524, 0.53369346, 0.02759049]])"
      ]
     },
     "execution_count": 28,
     "metadata": {},
     "output_type": "execute_result"
    }
   ],
   "source": [
    "np.random.rand(1,3)   #random float value "
   ]
  },
  {
   "cell_type": "code",
   "execution_count": 29,
   "id": "3cbb2c2a-fc1b-483e-b1b6-fa582db1ec85",
   "metadata": {},
   "outputs": [
    {
     "data": {
      "text/plain": [
       "1"
      ]
     },
     "execution_count": 29,
     "metadata": {},
     "output_type": "execute_result"
    }
   ],
   "source": [
    "np.random.randint(1,5)  # randint returns integer value"
   ]
  },
  {
   "cell_type": "markdown",
   "id": "7181c0e7-b4c1-4206-93a1-c36985d97a78",
   "metadata": {},
   "source": [
    "## Linspace used to provide range(low,high)"
   ]
  },
  {
   "cell_type": "code",
   "execution_count": 31,
   "id": "26f7ffca-6317-4414-8722-ca124335e3d5",
   "metadata": {},
   "outputs": [
    {
     "data": {
      "text/plain": [
       "array([ 1.,  4.,  7., 10.])"
      ]
     },
     "execution_count": 31,
     "metadata": {},
     "output_type": "execute_result"
    }
   ],
   "source": [
    "np.linspace(1,10,4)  #low range ,Upper range,num of numbers to generate"
   ]
  },
  {
   "cell_type": "code",
   "execution_count": 32,
   "id": "3221975d-c367-4b18-a121-ceb00f688dbe",
   "metadata": {},
   "outputs": [
    {
     "data": {
      "text/plain": [
       "array([10. , 12.5, 15. , 17.5, 20. ])"
      ]
     },
     "execution_count": 32,
     "metadata": {},
     "output_type": "execute_result"
    }
   ],
   "source": [
    "np.linspace(10,20,5)"
   ]
  },
  {
   "cell_type": "code",
   "execution_count": 33,
   "id": "b428809e-1d1d-48d3-94f8-baba633a2663",
   "metadata": {},
   "outputs": [
    {
     "data": {
      "text/plain": [
       "array([ 1. ,  4.8,  8.6, 12.4, 16.2, 20. ])"
      ]
     },
     "execution_count": 33,
     "metadata": {},
     "output_type": "execute_result"
    }
   ],
   "source": [
    "np.linspace(1,20,6)"
   ]
  },
  {
   "cell_type": "code",
   "execution_count": null,
   "id": "c5f04961-77d3-4ad8-a751-c19e0a15e6b6",
   "metadata": {},
   "outputs": [],
   "source": []
  },
  {
   "cell_type": "markdown",
   "id": "6bb57999-eb36-48b1-9efb-c17e41758f5d",
   "metadata": {},
   "source": [
    "## Identity Matix"
   ]
  },
  {
   "cell_type": "code",
   "execution_count": 35,
   "id": "0c51afce-ffea-4325-81ab-72b419522171",
   "metadata": {},
   "outputs": [
    {
     "name": "stdout",
     "output_type": "stream",
     "text": [
      "[[1. 0. 0.]\n",
      " [0. 1. 0.]\n",
      " [0. 0. 1.]]\n"
     ]
    }
   ],
   "source": [
    "s=np.identity(3)\n",
    "print(s)"
   ]
  },
  {
   "cell_type": "code",
   "execution_count": 36,
   "id": "32ccf9e3-96bc-49b7-afd7-4f6149a39a90",
   "metadata": {},
   "outputs": [
    {
     "name": "stdout",
     "output_type": "stream",
     "text": [
      "[[1. 0.]\n",
      " [0. 1.]]\n"
     ]
    }
   ],
   "source": [
    "s=np.identity(2)\n",
    "print(s)"
   ]
  },
  {
   "cell_type": "markdown",
   "id": "f717b66d-9c0f-486e-93bb-2c69c337841c",
   "metadata": {},
   "source": [
    "### Ndim to find number of dimesions "
   ]
  },
  {
   "cell_type": "code",
   "execution_count": 38,
   "id": "f06f40b4-36ef-48e3-9c8b-dd598ffafa0f",
   "metadata": {},
   "outputs": [
    {
     "data": {
      "text/plain": [
       "1"
      ]
     },
     "execution_count": 38,
     "metadata": {},
     "output_type": "execute_result"
    }
   ],
   "source": [
    "a.ndim"
   ]
  },
  {
   "cell_type": "code",
   "execution_count": 39,
   "id": "533ca49d-1732-4797-a043-24feeaca861e",
   "metadata": {},
   "outputs": [
    {
     "data": {
      "text/plain": [
       "2"
      ]
     },
     "execution_count": 39,
     "metadata": {},
     "output_type": "execute_result"
    }
   ],
   "source": [
    "b.ndim"
   ]
  },
  {
   "cell_type": "code",
   "execution_count": 40,
   "id": "a9da106e-83ce-4c69-b099-41924b53ac82",
   "metadata": {},
   "outputs": [
    {
     "data": {
      "text/plain": [
       "2"
      ]
     },
     "execution_count": 40,
     "metadata": {},
     "output_type": "execute_result"
    }
   ],
   "source": [
    "c.ndim"
   ]
  },
  {
   "cell_type": "code",
   "execution_count": 41,
   "id": "443f3081-ca57-4793-84c0-98dba561a8ca",
   "metadata": {},
   "outputs": [
    {
     "data": {
      "text/plain": [
       "2"
      ]
     },
     "execution_count": 41,
     "metadata": {},
     "output_type": "execute_result"
    }
   ],
   "source": [
    "s.ndim"
   ]
  },
  {
   "cell_type": "code",
   "execution_count": 42,
   "id": "a5f017ad-9161-4158-9ced-63f197854255",
   "metadata": {},
   "outputs": [
    {
     "data": {
      "text/plain": [
       "3"
      ]
     },
     "execution_count": 42,
     "metadata": {},
     "output_type": "execute_result"
    }
   ],
   "source": [
    "f.ndim"
   ]
  },
  {
   "cell_type": "markdown",
   "id": "1ff88869-79ee-4102-a7b7-83384cc7232b",
   "metadata": {},
   "source": [
    "## Shape of Matrix"
   ]
  },
  {
   "cell_type": "code",
   "execution_count": 44,
   "id": "ac720818-6167-40b9-9188-5c847eadcaff",
   "metadata": {},
   "outputs": [
    {
     "data": {
      "text/plain": [
       "array([12, 23, 31, 42])"
      ]
     },
     "execution_count": 44,
     "metadata": {},
     "output_type": "execute_result"
    }
   ],
   "source": [
    "a"
   ]
  },
  {
   "cell_type": "code",
   "execution_count": 45,
   "id": "15fbb865-11c1-4c2a-a551-522892350970",
   "metadata": {},
   "outputs": [
    {
     "data": {
      "text/plain": [
       "(4,)"
      ]
     },
     "execution_count": 45,
     "metadata": {},
     "output_type": "execute_result"
    }
   ],
   "source": [
    "a.shape"
   ]
  },
  {
   "cell_type": "code",
   "execution_count": 46,
   "id": "d4a3849e-564c-4418-b90d-fe4e2b2dfb10",
   "metadata": {},
   "outputs": [
    {
     "data": {
      "text/plain": [
       "array([[ 1,  2,  3,  4,  5],\n",
       "       [ 6,  7,  8,  9, 10]])"
      ]
     },
     "execution_count": 46,
     "metadata": {},
     "output_type": "execute_result"
    }
   ],
   "source": [
    "b"
   ]
  },
  {
   "cell_type": "code",
   "execution_count": 47,
   "id": "71d000bc-8190-46a8-bb4f-1404bb6946c0",
   "metadata": {},
   "outputs": [
    {
     "data": {
      "text/plain": [
       "(2, 5)"
      ]
     },
     "execution_count": 47,
     "metadata": {},
     "output_type": "execute_result"
    }
   ],
   "source": [
    "b.shape"
   ]
  },
  {
   "cell_type": "code",
   "execution_count": 48,
   "id": "008f1d05-64a5-40b2-8208-de8935a37242",
   "metadata": {},
   "outputs": [
    {
     "data": {
      "text/plain": [
       "array([[ 1,  2,  3,  4,  5],\n",
       "       [ 6,  7,  8,  9, 10],\n",
       "       [11, 12, 13, 14, 15],\n",
       "       [16, 17, 18, 19, 20]])"
      ]
     },
     "execution_count": 48,
     "metadata": {},
     "output_type": "execute_result"
    }
   ],
   "source": [
    "c"
   ]
  },
  {
   "cell_type": "code",
   "execution_count": 49,
   "id": "62b3366e-c76e-4dff-9abc-c1425ae7191d",
   "metadata": {},
   "outputs": [
    {
     "data": {
      "text/plain": [
       "(4, 5)"
      ]
     },
     "execution_count": 49,
     "metadata": {},
     "output_type": "execute_result"
    }
   ],
   "source": [
    "c.shape"
   ]
  },
  {
   "cell_type": "code",
   "execution_count": 50,
   "id": "2900aeec-3741-4940-988e-09bd86ea4f46",
   "metadata": {},
   "outputs": [
    {
     "data": {
      "text/plain": [
       "array([[[ 0,  1],\n",
       "        [ 2,  3]],\n",
       "\n",
       "       [[ 4,  5],\n",
       "        [ 6,  7]],\n",
       "\n",
       "       [[ 8,  9],\n",
       "        [10, 11]],\n",
       "\n",
       "       [[12, 13],\n",
       "        [14, 15]],\n",
       "\n",
       "       [[16, 17],\n",
       "        [18, 19]],\n",
       "\n",
       "       [[20, 21],\n",
       "        [22, 23]]])"
      ]
     },
     "execution_count": 50,
     "metadata": {},
     "output_type": "execute_result"
    }
   ],
   "source": [
    "f"
   ]
  },
  {
   "cell_type": "code",
   "execution_count": 51,
   "id": "82bf991f-fe88-4dc8-82dd-22895ad20235",
   "metadata": {},
   "outputs": [
    {
     "data": {
      "text/plain": [
       "(6, 2, 2)"
      ]
     },
     "execution_count": 51,
     "metadata": {},
     "output_type": "execute_result"
    }
   ],
   "source": [
    "f.shape"
   ]
  },
  {
   "cell_type": "code",
   "execution_count": 52,
   "id": "90324dd6-e6aa-4839-86ce-d481d42deb98",
   "metadata": {},
   "outputs": [
    {
     "data": {
      "text/plain": [
       "array([[1., 0.],\n",
       "       [0., 1.]])"
      ]
     },
     "execution_count": 52,
     "metadata": {},
     "output_type": "execute_result"
    }
   ],
   "source": [
    "s"
   ]
  },
  {
   "cell_type": "code",
   "execution_count": 53,
   "id": "b15399fe-8a20-4284-aa4d-f7c2058bb32c",
   "metadata": {},
   "outputs": [
    {
     "data": {
      "text/plain": [
       "(2, 2)"
      ]
     },
     "execution_count": 53,
     "metadata": {},
     "output_type": "execute_result"
    }
   ],
   "source": [
    "s.shape"
   ]
  },
  {
   "cell_type": "markdown",
   "id": "ccdee24f-ef71-4189-8367-a2a7261fe1cd",
   "metadata": {},
   "source": [
    "## Size of matrix  "
   ]
  },
  {
   "cell_type": "code",
   "execution_count": 55,
   "id": "215d3faa-d0b4-4e27-af43-18e641b44c43",
   "metadata": {},
   "outputs": [
    {
     "data": {
      "text/plain": [
       "array([12, 23, 31, 42])"
      ]
     },
     "execution_count": 55,
     "metadata": {},
     "output_type": "execute_result"
    }
   ],
   "source": [
    "a"
   ]
  },
  {
   "cell_type": "code",
   "execution_count": 56,
   "id": "79afd918-8702-4dac-b540-fd639e43453d",
   "metadata": {},
   "outputs": [
    {
     "data": {
      "text/plain": [
       "4"
      ]
     },
     "execution_count": 56,
     "metadata": {},
     "output_type": "execute_result"
    }
   ],
   "source": [
    "a.size"
   ]
  },
  {
   "cell_type": "code",
   "execution_count": 57,
   "id": "d3f16dc8-6881-4849-893d-45cab682d4c2",
   "metadata": {},
   "outputs": [
    {
     "data": {
      "text/plain": [
       "array([[ 1,  2,  3,  4,  5],\n",
       "       [ 6,  7,  8,  9, 10]])"
      ]
     },
     "execution_count": 57,
     "metadata": {},
     "output_type": "execute_result"
    }
   ],
   "source": [
    "b"
   ]
  },
  {
   "cell_type": "code",
   "execution_count": 58,
   "id": "65164547-e506-4b17-a18a-f07731f87932",
   "metadata": {},
   "outputs": [
    {
     "data": {
      "text/plain": [
       "10"
      ]
     },
     "execution_count": 58,
     "metadata": {},
     "output_type": "execute_result"
    }
   ],
   "source": [
    "b.size"
   ]
  },
  {
   "cell_type": "code",
   "execution_count": 59,
   "id": "c9676e66-2677-4ab2-b88b-7e37d9bb3141",
   "metadata": {},
   "outputs": [
    {
     "data": {
      "text/plain": [
       "array([[ 1,  2,  3,  4,  5],\n",
       "       [ 6,  7,  8,  9, 10],\n",
       "       [11, 12, 13, 14, 15],\n",
       "       [16, 17, 18, 19, 20]])"
      ]
     },
     "execution_count": 59,
     "metadata": {},
     "output_type": "execute_result"
    }
   ],
   "source": [
    "c"
   ]
  },
  {
   "cell_type": "code",
   "execution_count": 60,
   "id": "bb7f8bad-5f30-4627-bea7-168625ad845b",
   "metadata": {},
   "outputs": [
    {
     "data": {
      "text/plain": [
       "20"
      ]
     },
     "execution_count": 60,
     "metadata": {},
     "output_type": "execute_result"
    }
   ],
   "source": [
    "c.size"
   ]
  },
  {
   "cell_type": "code",
   "execution_count": 61,
   "id": "e647cfaa-f816-41f9-88ca-4741f0a358ab",
   "metadata": {},
   "outputs": [
    {
     "data": {
      "text/plain": [
       "array([[1., 0.],\n",
       "       [0., 1.]])"
      ]
     },
     "execution_count": 61,
     "metadata": {},
     "output_type": "execute_result"
    }
   ],
   "source": [
    "s"
   ]
  },
  {
   "cell_type": "code",
   "execution_count": 62,
   "id": "68f173d8-9ff9-4d85-820e-e708c312adaf",
   "metadata": {},
   "outputs": [
    {
     "data": {
      "text/plain": [
       "4"
      ]
     },
     "execution_count": 62,
     "metadata": {},
     "output_type": "execute_result"
    }
   ],
   "source": [
    "s.size"
   ]
  },
  {
   "cell_type": "code",
   "execution_count": 63,
   "id": "5a33b5de-392d-4fec-845c-097323707328",
   "metadata": {},
   "outputs": [
    {
     "data": {
      "text/plain": [
       "array([[[ 0,  1],\n",
       "        [ 2,  3]],\n",
       "\n",
       "       [[ 4,  5],\n",
       "        [ 6,  7]],\n",
       "\n",
       "       [[ 8,  9],\n",
       "        [10, 11]],\n",
       "\n",
       "       [[12, 13],\n",
       "        [14, 15]],\n",
       "\n",
       "       [[16, 17],\n",
       "        [18, 19]],\n",
       "\n",
       "       [[20, 21],\n",
       "        [22, 23]]])"
      ]
     },
     "execution_count": 63,
     "metadata": {},
     "output_type": "execute_result"
    }
   ],
   "source": [
    "f"
   ]
  },
  {
   "cell_type": "code",
   "execution_count": 64,
   "id": "c3f4ba14-7b75-448e-a798-287ae7d5428f",
   "metadata": {},
   "outputs": [
    {
     "data": {
      "text/plain": [
       "24"
      ]
     },
     "execution_count": 64,
     "metadata": {},
     "output_type": "execute_result"
    }
   ],
   "source": [
    "f.size"
   ]
  },
  {
   "cell_type": "markdown",
   "id": "82dc55c8-7125-4fde-945d-b21e6e57644e",
   "metadata": {},
   "source": [
    "## Matrix memory size"
   ]
  },
  {
   "cell_type": "code",
   "execution_count": 66,
   "id": "05b397a3-88b2-4a57-989f-60fc535a7716",
   "metadata": {},
   "outputs": [
    {
     "data": {
      "text/plain": [
       "array([12, 23, 31, 42])"
      ]
     },
     "execution_count": 66,
     "metadata": {},
     "output_type": "execute_result"
    }
   ],
   "source": [
    "a"
   ]
  },
  {
   "cell_type": "code",
   "execution_count": 67,
   "id": "642447f5-08e9-4928-8144-815026879c0c",
   "metadata": {},
   "outputs": [
    {
     "data": {
      "text/plain": [
       "4"
      ]
     },
     "execution_count": 67,
     "metadata": {},
     "output_type": "execute_result"
    }
   ],
   "source": [
    "a.itemsize # 4 bytes memomemory "
   ]
  },
  {
   "cell_type": "code",
   "execution_count": 68,
   "id": "2d6aec32-da91-4792-a001-8da2e61e406f",
   "metadata": {},
   "outputs": [
    {
     "data": {
      "text/plain": [
       "array([[ 1,  2,  3,  4,  5],\n",
       "       [ 6,  7,  8,  9, 10]])"
      ]
     },
     "execution_count": 68,
     "metadata": {},
     "output_type": "execute_result"
    }
   ],
   "source": [
    "b"
   ]
  },
  {
   "cell_type": "code",
   "execution_count": 69,
   "id": "7c092660-427b-4ac3-87bc-47400f630a53",
   "metadata": {},
   "outputs": [
    {
     "data": {
      "text/plain": [
       "4"
      ]
     },
     "execution_count": 69,
     "metadata": {},
     "output_type": "execute_result"
    }
   ],
   "source": [
    "b.itemsize"
   ]
  },
  {
   "cell_type": "code",
   "execution_count": 70,
   "id": "ff3d82de-a213-495e-b6e0-b795a17afcfc",
   "metadata": {},
   "outputs": [
    {
     "data": {
      "text/plain": [
       "array([[ 1,  2,  3,  4,  5],\n",
       "       [ 6,  7,  8,  9, 10],\n",
       "       [11, 12, 13, 14, 15],\n",
       "       [16, 17, 18, 19, 20]])"
      ]
     },
     "execution_count": 70,
     "metadata": {},
     "output_type": "execute_result"
    }
   ],
   "source": [
    "c"
   ]
  },
  {
   "cell_type": "code",
   "execution_count": 71,
   "id": "ba30536e-dcbf-47ad-8205-5fb6c1bd9833",
   "metadata": {},
   "outputs": [
    {
     "data": {
      "text/plain": [
       "4"
      ]
     },
     "execution_count": 71,
     "metadata": {},
     "output_type": "execute_result"
    }
   ],
   "source": [
    "c.itemsize"
   ]
  },
  {
   "cell_type": "code",
   "execution_count": 72,
   "id": "e52f8344-e86d-492b-85e1-de79777ec467",
   "metadata": {},
   "outputs": [
    {
     "data": {
      "text/plain": [
       "array([[1., 0.],\n",
       "       [0., 1.]])"
      ]
     },
     "execution_count": 72,
     "metadata": {},
     "output_type": "execute_result"
    }
   ],
   "source": [
    "s"
   ]
  },
  {
   "cell_type": "code",
   "execution_count": 73,
   "id": "8bc0572e-dcdd-4b8b-ac1e-242b29d784ab",
   "metadata": {},
   "outputs": [
    {
     "data": {
      "text/plain": [
       "8"
      ]
     },
     "execution_count": 73,
     "metadata": {},
     "output_type": "execute_result"
    }
   ],
   "source": [
    "s.itemsize   # 8 bytes memory"
   ]
  },
  {
   "cell_type": "code",
   "execution_count": 74,
   "id": "bb92ec96-9b27-49c5-80ca-bffd8b8ee603",
   "metadata": {},
   "outputs": [
    {
     "data": {
      "text/plain": [
       "array([[[ 0,  1],\n",
       "        [ 2,  3]],\n",
       "\n",
       "       [[ 4,  5],\n",
       "        [ 6,  7]],\n",
       "\n",
       "       [[ 8,  9],\n",
       "        [10, 11]],\n",
       "\n",
       "       [[12, 13],\n",
       "        [14, 15]],\n",
       "\n",
       "       [[16, 17],\n",
       "        [18, 19]],\n",
       "\n",
       "       [[20, 21],\n",
       "        [22, 23]]])"
      ]
     },
     "execution_count": 74,
     "metadata": {},
     "output_type": "execute_result"
    }
   ],
   "source": [
    "f"
   ]
  },
  {
   "cell_type": "code",
   "execution_count": 75,
   "id": "0057973d-183f-407a-bc90-235b4cba8c5b",
   "metadata": {},
   "outputs": [
    {
     "data": {
      "text/plain": [
       "4"
      ]
     },
     "execution_count": 75,
     "metadata": {},
     "output_type": "execute_result"
    }
   ],
   "source": [
    "f.itemsize"
   ]
  },
  {
   "cell_type": "code",
   "execution_count": null,
   "id": "3b47525a-3b5c-4ff8-8e6c-41beb2cc8dff",
   "metadata": {},
   "outputs": [],
   "source": []
  },
  {
   "cell_type": "code",
   "execution_count": null,
   "id": "30d61eac-ae3a-4132-8746-4dd8eb8ee805",
   "metadata": {},
   "outputs": [],
   "source": []
  },
  {
   "cell_type": "markdown",
   "id": "feb1304d-15d3-423c-b661-786d3d87afa1",
   "metadata": {},
   "source": [
    "## Changing DataType"
   ]
  },
  {
   "cell_type": "code",
   "execution_count": 77,
   "id": "99ecc60b-ebe0-44e8-a469-ef56109b7b47",
   "metadata": {},
   "outputs": [
    {
     "data": {
      "text/plain": [
       "array([12. ,  2.3, 33. ])"
      ]
     },
     "execution_count": 77,
     "metadata": {},
     "output_type": "execute_result"
    }
   ],
   "source": [
    "dt=np.array([12,2.3,33])\n",
    "dt"
   ]
  },
  {
   "cell_type": "code",
   "execution_count": 78,
   "id": "9f87715d-9be4-4291-8ac3-d02f7845481d",
   "metadata": {},
   "outputs": [
    {
     "data": {
      "text/plain": [
       "array([12,  2, 33])"
      ]
     },
     "execution_count": 78,
     "metadata": {},
     "output_type": "execute_result"
    }
   ],
   "source": [
    "dt.astype(int)"
   ]
  },
  {
   "cell_type": "code",
   "execution_count": 79,
   "id": "ebe72710-579e-49a2-b0e3-c27702bb9a23",
   "metadata": {},
   "outputs": [
    {
     "data": {
      "text/plain": [
       "array([12. ,  2.3, 33. ])"
      ]
     },
     "execution_count": 79,
     "metadata": {},
     "output_type": "execute_result"
    }
   ],
   "source": [
    "dt"
   ]
  },
  {
   "cell_type": "code",
   "execution_count": 80,
   "id": "c373ac0f-f223-497e-85dc-cce6f519ef20",
   "metadata": {},
   "outputs": [
    {
     "data": {
      "text/plain": [
       "array([12. +0.j,  2.3+0.j, 33. +0.j])"
      ]
     },
     "execution_count": 80,
     "metadata": {},
     "output_type": "execute_result"
    }
   ],
   "source": [
    "dt.astype(complex)"
   ]
  },
  {
   "cell_type": "code",
   "execution_count": 81,
   "id": "635e90b1-1ac3-4d0e-bbc6-da689e8245e7",
   "metadata": {},
   "outputs": [
    {
     "data": {
      "text/plain": [
       "array([ True,  True,  True])"
      ]
     },
     "execution_count": 81,
     "metadata": {},
     "output_type": "execute_result"
    }
   ],
   "source": [
    "dt.astype(bool)"
   ]
  },
  {
   "cell_type": "markdown",
   "id": "29218ab9-a766-45bf-ae51-85a9c7e6b6d9",
   "metadata": {},
   "source": [
    "## Scalar Operations"
   ]
  },
  {
   "cell_type": "code",
   "execution_count": 83,
   "id": "cce42e24-3e19-4c62-a714-871965713585",
   "metadata": {},
   "outputs": [],
   "source": [
    "z=np.arange(1,21).reshape(4,5)"
   ]
  },
  {
   "cell_type": "code",
   "execution_count": 84,
   "id": "ee444f9a-4579-48e5-8b9c-e36a05389f81",
   "metadata": {},
   "outputs": [
    {
     "data": {
      "text/plain": [
       "array([[ 1,  2,  3,  4,  5],\n",
       "       [ 6,  7,  8,  9, 10],\n",
       "       [11, 12, 13, 14, 15],\n",
       "       [16, 17, 18, 19, 20]])"
      ]
     },
     "execution_count": 84,
     "metadata": {},
     "output_type": "execute_result"
    }
   ],
   "source": [
    "z"
   ]
  },
  {
   "cell_type": "markdown",
   "id": "509b7487-90cd-4095-8bfc-183453400bc1",
   "metadata": {},
   "source": [
    "### Arithmatic Operater"
   ]
  },
  {
   "cell_type": "code",
   "execution_count": 86,
   "id": "f1bf8fd9-942e-467f-96ea-b2c9f6a951df",
   "metadata": {},
   "outputs": [
    {
     "data": {
      "text/plain": [
       "array([[ 3,  4,  5,  6,  7],\n",
       "       [ 8,  9, 10, 11, 12],\n",
       "       [13, 14, 15, 16, 17],\n",
       "       [18, 19, 20, 21, 22]])"
      ]
     },
     "execution_count": 86,
     "metadata": {},
     "output_type": "execute_result"
    }
   ],
   "source": [
    "z+2"
   ]
  },
  {
   "cell_type": "code",
   "execution_count": 87,
   "id": "fb00d5b8-9d15-4576-9eed-1a95df2339bc",
   "metadata": {},
   "outputs": [
    {
     "data": {
      "text/plain": [
       "array([[-1,  0,  1,  2,  3],\n",
       "       [ 4,  5,  6,  7,  8],\n",
       "       [ 9, 10, 11, 12, 13],\n",
       "       [14, 15, 16, 17, 18]])"
      ]
     },
     "execution_count": 87,
     "metadata": {},
     "output_type": "execute_result"
    }
   ],
   "source": [
    "z-2"
   ]
  },
  {
   "cell_type": "code",
   "execution_count": 88,
   "id": "a18dda60-d4c2-46d9-9730-5954621b9930",
   "metadata": {},
   "outputs": [
    {
     "data": {
      "text/plain": [
       "array([[ 2,  4,  6,  8, 10],\n",
       "       [12, 14, 16, 18, 20],\n",
       "       [22, 24, 26, 28, 30],\n",
       "       [32, 34, 36, 38, 40]])"
      ]
     },
     "execution_count": 88,
     "metadata": {},
     "output_type": "execute_result"
    }
   ],
   "source": [
    "z*2"
   ]
  },
  {
   "cell_type": "code",
   "execution_count": 89,
   "id": "12d31de8-122e-41ad-bb15-8ca607220491",
   "metadata": {},
   "outputs": [
    {
     "data": {
      "text/plain": [
       "array([[  1,   4,   9,  16,  25],\n",
       "       [ 36,  49,  64,  81, 100],\n",
       "       [121, 144, 169, 196, 225],\n",
       "       [256, 289, 324, 361, 400]])"
      ]
     },
     "execution_count": 89,
     "metadata": {},
     "output_type": "execute_result"
    }
   ],
   "source": [
    "z**2"
   ]
  },
  {
   "cell_type": "code",
   "execution_count": 90,
   "id": "f2009f11-af1c-4a59-a8f3-c8fa684cfeff",
   "metadata": {},
   "outputs": [
    {
     "data": {
      "text/plain": [
       "array([[ 0.5,  1. ,  1.5,  2. ,  2.5],\n",
       "       [ 3. ,  3.5,  4. ,  4.5,  5. ],\n",
       "       [ 5.5,  6. ,  6.5,  7. ,  7.5],\n",
       "       [ 8. ,  8.5,  9. ,  9.5, 10. ]])"
      ]
     },
     "execution_count": 90,
     "metadata": {},
     "output_type": "execute_result"
    }
   ],
   "source": [
    "z/2"
   ]
  },
  {
   "cell_type": "code",
   "execution_count": 91,
   "id": "eedaee04-8997-4255-8a8b-de64925e5e32",
   "metadata": {},
   "outputs": [
    {
     "data": {
      "text/plain": [
       "array([[ 0,  1,  1,  2,  2],\n",
       "       [ 3,  3,  4,  4,  5],\n",
       "       [ 5,  6,  6,  7,  7],\n",
       "       [ 8,  8,  9,  9, 10]], dtype=int32)"
      ]
     },
     "execution_count": 91,
     "metadata": {},
     "output_type": "execute_result"
    }
   ],
   "source": [
    "z//2"
   ]
  },
  {
   "cell_type": "code",
   "execution_count": 92,
   "id": "1566d6b1-9937-4dae-a407-5e4949ccc8cc",
   "metadata": {},
   "outputs": [
    {
     "data": {
      "text/plain": [
       "array([[1, 0, 1, 0, 1],\n",
       "       [0, 1, 0, 1, 0],\n",
       "       [1, 0, 1, 0, 1],\n",
       "       [0, 1, 0, 1, 0]], dtype=int32)"
      ]
     },
     "execution_count": 92,
     "metadata": {},
     "output_type": "execute_result"
    }
   ],
   "source": [
    "z%2"
   ]
  },
  {
   "cell_type": "code",
   "execution_count": 93,
   "id": "e2360438-bc8b-43d2-85a6-d99a4ec6c7f0",
   "metadata": {},
   "outputs": [
    {
     "data": {
      "text/plain": [
       "array([[ 1,  2,  3,  4,  5],\n",
       "       [ 6,  7,  8,  9, 10],\n",
       "       [11, 12, 13, 14, 15],\n",
       "       [16, 17, 18, 19, 20]])"
      ]
     },
     "execution_count": 93,
     "metadata": {},
     "output_type": "execute_result"
    }
   ],
   "source": [
    "z"
   ]
  },
  {
   "cell_type": "code",
   "execution_count": null,
   "id": "ba2e56ff-4a4f-4d75-967c-8c6705c9a8a1",
   "metadata": {},
   "outputs": [],
   "source": []
  },
  {
   "cell_type": "code",
   "execution_count": null,
   "id": "1b0dac41-c064-4921-ad78-a6a6c7a144c4",
   "metadata": {},
   "outputs": [],
   "source": []
  },
  {
   "cell_type": "markdown",
   "id": "ec34c166-95cf-4a22-8e78-26997ac44e47",
   "metadata": {},
   "source": [
    "### Relational Operation"
   ]
  },
  {
   "cell_type": "code",
   "execution_count": 95,
   "id": "ff7cda87-9d0f-428e-8ead-672444b66153",
   "metadata": {},
   "outputs": [
    {
     "data": {
      "text/plain": [
       "array([[ 1,  2,  3,  4,  5],\n",
       "       [ 6,  7,  8,  9, 10],\n",
       "       [11, 12, 13, 14, 15],\n",
       "       [16, 17, 18, 19, 20]])"
      ]
     },
     "execution_count": 95,
     "metadata": {},
     "output_type": "execute_result"
    }
   ],
   "source": [
    "z"
   ]
  },
  {
   "cell_type": "code",
   "execution_count": 96,
   "id": "6c237e7f-05a3-4e59-a5d7-f8cbb627a19a",
   "metadata": {},
   "outputs": [
    {
     "data": {
      "text/plain": [
       "array([[ True,  True,  True,  True,  True],\n",
       "       [ True,  True,  True,  True,  True],\n",
       "       [ True,  True,  True,  True,  True],\n",
       "       [ True,  True,  True,  True, False]])"
      ]
     },
     "execution_count": 96,
     "metadata": {},
     "output_type": "execute_result"
    }
   ],
   "source": [
    "z<20"
   ]
  },
  {
   "cell_type": "code",
   "execution_count": 97,
   "id": "3817cd70-c1ae-4949-8f10-9559d3053ff8",
   "metadata": {},
   "outputs": [
    {
     "data": {
      "text/plain": [
       "array([[False, False, False, False, False],\n",
       "       [False, False, False, False, False],\n",
       "       [ True,  True,  True,  True,  True],\n",
       "       [ True,  True,  True,  True,  True]])"
      ]
     },
     "execution_count": 97,
     "metadata": {},
     "output_type": "execute_result"
    }
   ],
   "source": [
    "z>10"
   ]
  },
  {
   "cell_type": "code",
   "execution_count": 98,
   "id": "497ec3b4-dae6-429c-9b8b-7d8a8e6d70be",
   "metadata": {},
   "outputs": [
    {
     "data": {
      "text/plain": [
       "array([11, 12, 13, 14, 15, 16, 17, 18, 19, 20])"
      ]
     },
     "execution_count": 98,
     "metadata": {},
     "output_type": "execute_result"
    }
   ],
   "source": [
    "z[z>10]"
   ]
  },
  {
   "cell_type": "code",
   "execution_count": 99,
   "id": "a44e2b1c-ccb6-48ae-b374-839a191eb987",
   "metadata": {},
   "outputs": [
    {
     "data": {
      "text/plain": [
       "array([1, 2, 3, 4, 5, 6, 7, 8, 9])"
      ]
     },
     "execution_count": 99,
     "metadata": {},
     "output_type": "execute_result"
    }
   ],
   "source": [
    "z[z<10]"
   ]
  },
  {
   "cell_type": "markdown",
   "id": "ab3b6887-696a-479e-9491-6f2890907098",
   "metadata": {},
   "source": [
    "## Operations between 2 matrix "
   ]
  },
  {
   "cell_type": "code",
   "execution_count": 101,
   "id": "64ac5043-ec34-44cb-a48e-3ba8ed489d42",
   "metadata": {},
   "outputs": [
    {
     "name": "stdout",
     "output_type": "stream",
     "text": [
      "[[14  1 19  3  8]\n",
      " [17 18 15 17  4]\n",
      " [ 9  5  8 18 10]\n",
      " [15  5  4 16  6]]\n"
     ]
    }
   ],
   "source": [
    "y=np.random.randint(1,20,(4,5))\n",
    "print(y)"
   ]
  },
  {
   "cell_type": "code",
   "execution_count": 102,
   "id": "c4f86e85-aeb2-42da-a6b3-00a53559882a",
   "metadata": {},
   "outputs": [
    {
     "data": {
      "text/plain": [
       "array([[-13,   1, -16,   1,  -3],\n",
       "       [-11, -11,  -7,  -8,   6],\n",
       "       [  2,   7,   5,  -4,   5],\n",
       "       [  1,  12,  14,   3,  14]])"
      ]
     },
     "execution_count": 102,
     "metadata": {},
     "output_type": "execute_result"
    }
   ],
   "source": [
    "z-y"
   ]
  },
  {
   "cell_type": "code",
   "execution_count": 103,
   "id": "764e193a-f7aa-4488-a305-e14fa3937294",
   "metadata": {},
   "outputs": [
    {
     "data": {
      "text/plain": [
       "array([[15,  3, 22,  7, 13],\n",
       "       [23, 25, 23, 26, 14],\n",
       "       [20, 17, 21, 32, 25],\n",
       "       [31, 22, 22, 35, 26]])"
      ]
     },
     "execution_count": 103,
     "metadata": {},
     "output_type": "execute_result"
    }
   ],
   "source": [
    "z+y"
   ]
  },
  {
   "cell_type": "code",
   "execution_count": 104,
   "id": "6ab48a29-1386-489a-821c-39977b49b275",
   "metadata": {},
   "outputs": [
    {
     "data": {
      "text/plain": [
       "array([[ 14,   2,  57,  12,  40],\n",
       "       [102, 126, 120, 153,  40],\n",
       "       [ 99,  60, 104, 252, 150],\n",
       "       [240,  85,  72, 304, 120]])"
      ]
     },
     "execution_count": 104,
     "metadata": {},
     "output_type": "execute_result"
    }
   ],
   "source": [
    "z*y"
   ]
  },
  {
   "cell_type": "code",
   "execution_count": 105,
   "id": "89a8c706-a8af-4520-8412-3743626aa2cc",
   "metadata": {},
   "outputs": [
    {
     "data": {
      "text/plain": [
       "array([[0, 2, 0, 1, 0],\n",
       "       [0, 0, 0, 0, 2],\n",
       "       [1, 2, 1, 0, 1],\n",
       "       [1, 3, 4, 1, 3]])"
      ]
     },
     "execution_count": 105,
     "metadata": {},
     "output_type": "execute_result"
    }
   ],
   "source": [
    "z//y"
   ]
  },
  {
   "cell_type": "code",
   "execution_count": 106,
   "id": "6e197fc5-f2c0-4a48-a98b-bbd247fb5372",
   "metadata": {},
   "outputs": [
    {
     "data": {
      "text/plain": [
       "array([[0.07142857, 2.        , 0.15789474, 1.33333333, 0.625     ],\n",
       "       [0.35294118, 0.38888889, 0.53333333, 0.52941176, 2.5       ],\n",
       "       [1.22222222, 2.4       , 1.625     , 0.77777778, 1.5       ],\n",
       "       [1.06666667, 3.4       , 4.5       , 1.1875    , 3.33333333]])"
      ]
     },
     "execution_count": 106,
     "metadata": {},
     "output_type": "execute_result"
    }
   ],
   "source": [
    "z/y"
   ]
  },
  {
   "cell_type": "code",
   "execution_count": 107,
   "id": "e3c55876-a069-4645-9caf-14591d3f7cd6",
   "metadata": {},
   "outputs": [
    {
     "data": {
      "text/plain": [
       "array([[ 1,  0,  3,  1,  5],\n",
       "       [ 6,  7,  8,  9,  2],\n",
       "       [ 2,  2,  5, 14,  5],\n",
       "       [ 1,  2,  2,  3,  2]])"
      ]
     },
     "execution_count": 107,
     "metadata": {},
     "output_type": "execute_result"
    }
   ],
   "source": [
    "z%y"
   ]
  },
  {
   "cell_type": "markdown",
   "id": "3730965b-6bf4-495b-9b48-93057107d3cf",
   "metadata": {},
   "source": [
    "## Maximun and Mimumun in matrix"
   ]
  },
  {
   "cell_type": "code",
   "execution_count": 109,
   "id": "e995ac9d-be40-41e4-b381-040868758943",
   "metadata": {},
   "outputs": [
    {
     "data": {
      "text/plain": [
       "array([[ 1,  2,  3,  4,  5],\n",
       "       [ 6,  7,  8,  9, 10],\n",
       "       [11, 12, 13, 14, 15],\n",
       "       [16, 17, 18, 19, 20]])"
      ]
     },
     "execution_count": 109,
     "metadata": {},
     "output_type": "execute_result"
    }
   ],
   "source": [
    "z"
   ]
  },
  {
   "cell_type": "code",
   "execution_count": 110,
   "id": "2adbf1ff-24c2-4dd4-aaab-87f9b429d814",
   "metadata": {},
   "outputs": [
    {
     "data": {
      "text/plain": [
       "20"
      ]
     },
     "execution_count": 110,
     "metadata": {},
     "output_type": "execute_result"
    }
   ],
   "source": [
    "np.max(z)"
   ]
  },
  {
   "cell_type": "code",
   "execution_count": 111,
   "id": "2bcb66b0-c71e-46f3-8c40-bd92e8a0369d",
   "metadata": {},
   "outputs": [
    {
     "data": {
      "text/plain": [
       "1"
      ]
     },
     "execution_count": 111,
     "metadata": {},
     "output_type": "execute_result"
    }
   ],
   "source": [
    "np.min(z)"
   ]
  },
  {
   "cell_type": "code",
   "execution_count": 112,
   "id": "d382d614-c06f-4d25-a509-342d4949ae62",
   "metadata": {},
   "outputs": [
    {
     "data": {
      "text/plain": [
       "210"
      ]
     },
     "execution_count": 112,
     "metadata": {},
     "output_type": "execute_result"
    }
   ],
   "source": [
    "np.sum(z)"
   ]
  },
  {
   "cell_type": "code",
   "execution_count": 113,
   "id": "d429bc14-b200-48db-8de5-39b1654b379d",
   "metadata": {},
   "outputs": [
    {
     "data": {
      "text/plain": [
       "-2102132736"
      ]
     },
     "execution_count": 113,
     "metadata": {},
     "output_type": "execute_result"
    }
   ],
   "source": [
    "np.prod(z)"
   ]
  },
  {
   "cell_type": "markdown",
   "id": "f8223209-7082-49cb-8b51-417997adc277",
   "metadata": {},
   "source": [
    "## Statistical Function"
   ]
  },
  {
   "cell_type": "markdown",
   "id": "47380052-acd6-41b4-9b14-a25d27234d8f",
   "metadata": {},
   "source": [
    "### 1.Mean 2.Median 3.Varience 4.Standerd_Deviation"
   ]
  },
  {
   "cell_type": "code",
   "execution_count": 116,
   "id": "7266c94f-ff08-437c-9e2a-fcf67311d463",
   "metadata": {},
   "outputs": [
    {
     "data": {
      "text/plain": [
       "array([[ 1,  2,  3,  4,  5],\n",
       "       [ 6,  7,  8,  9, 10],\n",
       "       [11, 12, 13, 14, 15],\n",
       "       [16, 17, 18, 19, 20]])"
      ]
     },
     "execution_count": 116,
     "metadata": {},
     "output_type": "execute_result"
    }
   ],
   "source": [
    "z"
   ]
  },
  {
   "cell_type": "code",
   "execution_count": 117,
   "id": "b3f7f0a9-f3d5-4488-b38d-636317cb059a",
   "metadata": {},
   "outputs": [
    {
     "data": {
      "text/plain": [
       "10.5"
      ]
     },
     "execution_count": 117,
     "metadata": {},
     "output_type": "execute_result"
    }
   ],
   "source": [
    "np.mean(z)"
   ]
  },
  {
   "cell_type": "code",
   "execution_count": 118,
   "id": "5ebe8c7e-fce3-401b-9f59-731f71a7de78",
   "metadata": {},
   "outputs": [
    {
     "data": {
      "text/plain": [
       "10.5"
      ]
     },
     "execution_count": 118,
     "metadata": {},
     "output_type": "execute_result"
    }
   ],
   "source": [
    "np.median(z)"
   ]
  },
  {
   "cell_type": "code",
   "execution_count": 119,
   "id": "cefe8dd4-2a20-455e-a027-6519794e38ba",
   "metadata": {},
   "outputs": [
    {
     "data": {
      "text/plain": [
       "5.766281297335398"
      ]
     },
     "execution_count": 119,
     "metadata": {},
     "output_type": "execute_result"
    }
   ],
   "source": [
    "np.std(z)"
   ]
  },
  {
   "cell_type": "code",
   "execution_count": 120,
   "id": "67051005-6d7f-4a91-b665-870a6e627ef4",
   "metadata": {},
   "outputs": [
    {
     "data": {
      "text/plain": [
       "33.25"
      ]
     },
     "execution_count": 120,
     "metadata": {},
     "output_type": "execute_result"
    }
   ],
   "source": [
    "np.var(z)"
   ]
  },
  {
   "cell_type": "code",
   "execution_count": null,
   "id": "4cc22f8a-f9dd-4755-ad2a-af4233348c64",
   "metadata": {},
   "outputs": [],
   "source": []
  },
  {
   "cell_type": "code",
   "execution_count": null,
   "id": "cd191c7c-25d4-4241-ad27-767b268fd786",
   "metadata": {},
   "outputs": [],
   "source": []
  },
  {
   "cell_type": "markdown",
   "id": "10b52417-8633-484b-a26f-950c45898bbc",
   "metadata": {},
   "source": [
    "## Slicing Operation in Matrix"
   ]
  },
  {
   "cell_type": "code",
   "execution_count": 122,
   "id": "9fdb045b-eb8b-4cd7-999a-d9ee366278ee",
   "metadata": {},
   "outputs": [],
   "source": [
    "s1=np.arange(1,101).reshape(10,10)"
   ]
  },
  {
   "cell_type": "code",
   "execution_count": 123,
   "id": "30e32f8c-edef-48b9-b77c-ced861ad47c6",
   "metadata": {},
   "outputs": [
    {
     "data": {
      "text/plain": [
       "array([[  1,   2,   3,   4,   5,   6,   7,   8,   9,  10],\n",
       "       [ 11,  12,  13,  14,  15,  16,  17,  18,  19,  20],\n",
       "       [ 21,  22,  23,  24,  25,  26,  27,  28,  29,  30],\n",
       "       [ 31,  32,  33,  34,  35,  36,  37,  38,  39,  40],\n",
       "       [ 41,  42,  43,  44,  45,  46,  47,  48,  49,  50],\n",
       "       [ 51,  52,  53,  54,  55,  56,  57,  58,  59,  60],\n",
       "       [ 61,  62,  63,  64,  65,  66,  67,  68,  69,  70],\n",
       "       [ 71,  72,  73,  74,  75,  76,  77,  78,  79,  80],\n",
       "       [ 81,  82,  83,  84,  85,  86,  87,  88,  89,  90],\n",
       "       [ 91,  92,  93,  94,  95,  96,  97,  98,  99, 100]])"
      ]
     },
     "execution_count": 123,
     "metadata": {},
     "output_type": "execute_result"
    }
   ],
   "source": [
    "s1"
   ]
  },
  {
   "cell_type": "code",
   "execution_count": 124,
   "id": "1364d6a2-3dab-44f3-9bbb-240b09499a6d",
   "metadata": {},
   "outputs": [
    {
     "data": {
      "text/plain": [
       "array([[  1,   2,   3,   4,   5,   6,   7,   8,   9,  10],\n",
       "       [ 11,  12,  13,  14,  15,  16,  17,  18,  19,  20],\n",
       "       [ 21,  22,  23,  24,  25,  26,  27,  28,  29,  30],\n",
       "       [ 31,  32,  33,  34,  35,  36,  37,  38,  39,  40],\n",
       "       [ 41,  42,  43,  44,  45,  46,  47,  48,  49,  50],\n",
       "       [ 51,  52,  53,  54,  55,  56,  57,  58,  59,  60],\n",
       "       [ 61,  62,  63,  64,  65,  66,  67,  68,  69,  70],\n",
       "       [ 71,  72,  73,  74,  75,  76,  77,  78,  79,  80],\n",
       "       [ 81,  82,  83,  84,  85,  86,  87,  88,  89,  90],\n",
       "       [ 91,  92,  93,  94,  95,  96,  97,  98,  99, 100]])"
      ]
     },
     "execution_count": 124,
     "metadata": {},
     "output_type": "execute_result"
    }
   ],
   "source": [
    "s1[:]"
   ]
  },
  {
   "cell_type": "code",
   "execution_count": 125,
   "id": "5e872bf3-dae6-47fb-bb82-582344e09c18",
   "metadata": {},
   "outputs": [
    {
     "data": {
      "text/plain": [
       "array([[ 1,  2,  3,  4,  5,  6,  7,  8,  9, 10],\n",
       "       [11, 12, 13, 14, 15, 16, 17, 18, 19, 20],\n",
       "       [21, 22, 23, 24, 25, 26, 27, 28, 29, 30],\n",
       "       [31, 32, 33, 34, 35, 36, 37, 38, 39, 40],\n",
       "       [41, 42, 43, 44, 45, 46, 47, 48, 49, 50]])"
      ]
     },
     "execution_count": 125,
     "metadata": {},
     "output_type": "execute_result"
    }
   ],
   "source": [
    "s1[:5] #first 5 Rows and Columns in matrix"
   ]
  },
  {
   "cell_type": "code",
   "execution_count": 126,
   "id": "4406204d-c93a-4258-974a-1f34cf610831",
   "metadata": {},
   "outputs": [
    {
     "data": {
      "text/plain": [
       "array([[ 1,  2,  3,  4,  5,  6,  7,  8,  9, 10],\n",
       "       [11, 12, 13, 14, 15, 16, 17, 18, 19, 20],\n",
       "       [21, 22, 23, 24, 25, 26, 27, 28, 29, 30]])"
      ]
     },
     "execution_count": 126,
     "metadata": {},
     "output_type": "execute_result"
    }
   ],
   "source": [
    "s1[0:3]"
   ]
  },
  {
   "cell_type": "code",
   "execution_count": 127,
   "id": "9d7c33b3-1453-4d08-85ed-af3f2280c06f",
   "metadata": {},
   "outputs": [
    {
     "data": {
      "text/plain": [
       "array([[ 51,  52,  53,  54,  55,  56,  57,  58,  59,  60],\n",
       "       [ 61,  62,  63,  64,  65,  66,  67,  68,  69,  70],\n",
       "       [ 71,  72,  73,  74,  75,  76,  77,  78,  79,  80],\n",
       "       [ 81,  82,  83,  84,  85,  86,  87,  88,  89,  90],\n",
       "       [ 91,  92,  93,  94,  95,  96,  97,  98,  99, 100]])"
      ]
     },
     "execution_count": 127,
     "metadata": {},
     "output_type": "execute_result"
    }
   ],
   "source": [
    "s1[5:11]"
   ]
  },
  {
   "cell_type": "code",
   "execution_count": 128,
   "id": "5ca43d30-38d3-448c-9697-e9c044013e02",
   "metadata": {},
   "outputs": [
    {
     "data": {
      "text/plain": [
       "array([[ 1,  2,  3,  4,  5,  6,  7,  8,  9, 10],\n",
       "       [11, 12, 13, 14, 15, 16, 17, 18, 19, 20],\n",
       "       [21, 22, 23, 24, 25, 26, 27, 28, 29, 30],\n",
       "       [31, 32, 33, 34, 35, 36, 37, 38, 39, 40],\n",
       "       [41, 42, 43, 44, 45, 46, 47, 48, 49, 50],\n",
       "       [51, 52, 53, 54, 55, 56, 57, 58, 59, 60],\n",
       "       [61, 62, 63, 64, 65, 66, 67, 68, 69, 70],\n",
       "       [71, 72, 73, 74, 75, 76, 77, 78, 79, 80],\n",
       "       [81, 82, 83, 84, 85, 86, 87, 88, 89, 90]])"
      ]
     },
     "execution_count": 128,
     "metadata": {},
     "output_type": "execute_result"
    }
   ],
   "source": [
    "s1[:-1] #last row is skipped "
   ]
  },
  {
   "cell_type": "code",
   "execution_count": 129,
   "id": "9ae7ecce-9e7e-47d3-bafd-72e9d173f43a",
   "metadata": {},
   "outputs": [
    {
     "data": {
      "text/plain": [
       "array([[ 1,  2,  3,  4,  5,  6,  7,  8,  9, 10],\n",
       "       [21, 22, 23, 24, 25, 26, 27, 28, 29, 30],\n",
       "       [41, 42, 43, 44, 45, 46, 47, 48, 49, 50],\n",
       "       [61, 62, 63, 64, 65, 66, 67, 68, 69, 70],\n",
       "       [81, 82, 83, 84, 85, 86, 87, 88, 89, 90]])"
      ]
     },
     "execution_count": 129,
     "metadata": {},
     "output_type": "execute_result"
    }
   ],
   "source": [
    "s1[::2] # Forward skipping"
   ]
  },
  {
   "cell_type": "code",
   "execution_count": 130,
   "id": "3e0d9e9f-7df4-4a28-96ff-9e8ac58cc27f",
   "metadata": {},
   "outputs": [
    {
     "data": {
      "text/plain": [
       "array([[  1,   2,   3,   4,   5,   6,   7,   8,   9,  10],\n",
       "       [ 31,  32,  33,  34,  35,  36,  37,  38,  39,  40],\n",
       "       [ 61,  62,  63,  64,  65,  66,  67,  68,  69,  70],\n",
       "       [ 91,  92,  93,  94,  95,  96,  97,  98,  99, 100]])"
      ]
     },
     "execution_count": 130,
     "metadata": {},
     "output_type": "execute_result"
    }
   ],
   "source": [
    "s1[::3] # Forward skipping"
   ]
  },
  {
   "cell_type": "markdown",
   "id": "6036aa43-ff29-4d1a-b1aa-f5d061ded0a7",
   "metadata": {},
   "source": [
    "## Reversing Matrix "
   ]
  },
  {
   "cell_type": "code",
   "execution_count": 132,
   "id": "0fdf87c0-e7e0-4825-b263-f1eddfe4ed2d",
   "metadata": {},
   "outputs": [
    {
     "data": {
      "text/plain": [
       "array([[  1,   2,   3,   4,   5,   6,   7,   8,   9,  10],\n",
       "       [ 11,  12,  13,  14,  15,  16,  17,  18,  19,  20],\n",
       "       [ 21,  22,  23,  24,  25,  26,  27,  28,  29,  30],\n",
       "       [ 31,  32,  33,  34,  35,  36,  37,  38,  39,  40],\n",
       "       [ 41,  42,  43,  44,  45,  46,  47,  48,  49,  50],\n",
       "       [ 51,  52,  53,  54,  55,  56,  57,  58,  59,  60],\n",
       "       [ 61,  62,  63,  64,  65,  66,  67,  68,  69,  70],\n",
       "       [ 71,  72,  73,  74,  75,  76,  77,  78,  79,  80],\n",
       "       [ 81,  82,  83,  84,  85,  86,  87,  88,  89,  90],\n",
       "       [ 91,  92,  93,  94,  95,  96,  97,  98,  99, 100]])"
      ]
     },
     "execution_count": 132,
     "metadata": {},
     "output_type": "execute_result"
    }
   ],
   "source": [
    "s1"
   ]
  },
  {
   "cell_type": "code",
   "execution_count": 133,
   "id": "823ca63d-42a2-4539-9bfc-5001ecc09838",
   "metadata": {},
   "outputs": [
    {
     "data": {
      "text/plain": [
       "array([[ 91,  92,  93,  94,  95,  96,  97,  98,  99, 100],\n",
       "       [ 81,  82,  83,  84,  85,  86,  87,  88,  89,  90],\n",
       "       [ 71,  72,  73,  74,  75,  76,  77,  78,  79,  80],\n",
       "       [ 61,  62,  63,  64,  65,  66,  67,  68,  69,  70],\n",
       "       [ 51,  52,  53,  54,  55,  56,  57,  58,  59,  60],\n",
       "       [ 41,  42,  43,  44,  45,  46,  47,  48,  49,  50],\n",
       "       [ 31,  32,  33,  34,  35,  36,  37,  38,  39,  40],\n",
       "       [ 21,  22,  23,  24,  25,  26,  27,  28,  29,  30],\n",
       "       [ 11,  12,  13,  14,  15,  16,  17,  18,  19,  20],\n",
       "       [  1,   2,   3,   4,   5,   6,   7,   8,   9,  10]])"
      ]
     },
     "execution_count": 133,
     "metadata": {},
     "output_type": "execute_result"
    }
   ],
   "source": [
    "s1[::-1]   #Reverse printing of matrix"
   ]
  },
  {
   "cell_type": "code",
   "execution_count": 134,
   "id": "5c6be135-3547-4c92-be55-5b8807236b54",
   "metadata": {},
   "outputs": [
    {
     "data": {
      "text/plain": [
       "array([[ 91,  92,  93,  94,  95,  96,  97,  98,  99, 100],\n",
       "       [ 71,  72,  73,  74,  75,  76,  77,  78,  79,  80],\n",
       "       [ 51,  52,  53,  54,  55,  56,  57,  58,  59,  60],\n",
       "       [ 31,  32,  33,  34,  35,  36,  37,  38,  39,  40],\n",
       "       [ 11,  12,  13,  14,  15,  16,  17,  18,  19,  20]])"
      ]
     },
     "execution_count": 134,
     "metadata": {},
     "output_type": "execute_result"
    }
   ],
   "source": [
    "s1[::-2] #Reverse printing + skipping the rows"
   ]
  },
  {
   "cell_type": "code",
   "execution_count": 135,
   "id": "1693a710-ea25-4486-9461-820d4640edfc",
   "metadata": {},
   "outputs": [
    {
     "data": {
      "text/plain": [
       "array([[ 91,  92,  93,  94,  95,  96,  97,  98,  99, 100],\n",
       "       [ 61,  62,  63,  64,  65,  66,  67,  68,  69,  70],\n",
       "       [ 31,  32,  33,  34,  35,  36,  37,  38,  39,  40],\n",
       "       [  1,   2,   3,   4,   5,   6,   7,   8,   9,  10]])"
      ]
     },
     "execution_count": 135,
     "metadata": {},
     "output_type": "execute_result"
    }
   ],
   "source": [
    "s1[::-3]  #Reverse +skipping rows operation"
   ]
  },
  {
   "cell_type": "markdown",
   "id": "871bd58b-cb84-41d8-b0ee-d07bac9313e6",
   "metadata": {},
   "source": [
    "## Indexing in Matrix (  ,  ) Finding a perticular element from the matrix"
   ]
  },
  {
   "cell_type": "code",
   "execution_count": 137,
   "id": "5038f6e9-c712-47da-aac4-f8030111c3c6",
   "metadata": {},
   "outputs": [
    {
     "data": {
      "text/plain": [
       "array([[  1,   2,   3,   4,   5,   6,   7,   8,   9,  10],\n",
       "       [ 11,  12,  13,  14,  15,  16,  17,  18,  19,  20],\n",
       "       [ 21,  22,  23,  24,  25,  26,  27,  28,  29,  30],\n",
       "       [ 31,  32,  33,  34,  35,  36,  37,  38,  39,  40],\n",
       "       [ 41,  42,  43,  44,  45,  46,  47,  48,  49,  50],\n",
       "       [ 51,  52,  53,  54,  55,  56,  57,  58,  59,  60],\n",
       "       [ 61,  62,  63,  64,  65,  66,  67,  68,  69,  70],\n",
       "       [ 71,  72,  73,  74,  75,  76,  77,  78,  79,  80],\n",
       "       [ 81,  82,  83,  84,  85,  86,  87,  88,  89,  90],\n",
       "       [ 91,  92,  93,  94,  95,  96,  97,  98,  99, 100]])"
      ]
     },
     "execution_count": 137,
     "metadata": {},
     "output_type": "execute_result"
    }
   ],
   "source": [
    "s1"
   ]
  },
  {
   "cell_type": "code",
   "execution_count": 138,
   "id": "a75964ab-68af-46d6-a1c3-403e2183946b",
   "metadata": {},
   "outputs": [
    {
     "data": {
      "text/plain": [
       "23"
      ]
     },
     "execution_count": 138,
     "metadata": {},
     "output_type": "execute_result"
    }
   ],
   "source": [
    "s1[2,2] # Indexing finds a perticular location in the matrix through rows and colums operations"
   ]
  },
  {
   "cell_type": "code",
   "execution_count": 139,
   "id": "f1384e6f-8107-4453-9a0d-0f8266fa3864",
   "metadata": {},
   "outputs": [
    {
     "data": {
      "text/plain": [
       "50"
      ]
     },
     "execution_count": 139,
     "metadata": {},
     "output_type": "execute_result"
    }
   ],
   "source": [
    "s1[4,9]"
   ]
  },
  {
   "cell_type": "code",
   "execution_count": 140,
   "id": "04243743-65be-4cb7-9054-e7fdcf2f1d1e",
   "metadata": {},
   "outputs": [
    {
     "data": {
      "text/plain": [
       "array([[  1,   2,   3,   4,   5,   6,   7,   8,   9,  10],\n",
       "       [ 11,  12,  13,  14,  15,  16,  17,  18,  19,  20],\n",
       "       [ 21,  22,  23,  24,  25,  26,  27,  28,  29,  30],\n",
       "       [ 31,  32,  33,  34,  35,  36,  37,  38,  39,  40],\n",
       "       [ 41,  42,  43,  44,  45,  46,  47,  48,  49,  50],\n",
       "       [ 51,  52,  53,  54,  55,  56,  57,  58,  59,  60],\n",
       "       [ 61,  62,  63,  64,  65,  66,  67,  68,  69,  70],\n",
       "       [ 71,  72,  73,  74,  75,  76,  77,  78,  79,  80],\n",
       "       [ 81,  82,  83,  84,  85,  86,  87,  88,  89,  90],\n",
       "       [ 91,  92,  93,  94,  95,  96,  97,  98,  99, 100]])"
      ]
     },
     "execution_count": 140,
     "metadata": {},
     "output_type": "execute_result"
    }
   ],
   "source": [
    "s1"
   ]
  },
  {
   "cell_type": "markdown",
   "id": "00dee674-4bc2-4d08-83cf-ee0b35ede98e",
   "metadata": {},
   "source": [
    "## A specific colum is displayed (  : , ) "
   ]
  },
  {
   "cell_type": "code",
   "execution_count": 142,
   "id": "8ef73baa-a976-455f-aaba-86c6e2ee3605",
   "metadata": {},
   "outputs": [
    {
     "data": {
      "text/plain": [
       "array([ 5, 15, 25, 35, 45, 55, 65, 75, 85, 95])"
      ]
     },
     "execution_count": 142,
     "metadata": {},
     "output_type": "execute_result"
    }
   ],
   "source": [
    "s1[:,4]  # 4 column is represented using SliceIndexing together....."
   ]
  },
  {
   "cell_type": "code",
   "execution_count": 143,
   "id": "c5bf1f07-cd23-4b1a-bf28-e52175ebd174",
   "metadata": {},
   "outputs": [
    {
     "data": {
      "text/plain": [
       "array([ 7, 17, 27, 37, 47, 57, 67, 77, 87, 97])"
      ]
     },
     "execution_count": 143,
     "metadata": {},
     "output_type": "execute_result"
    }
   ],
   "source": [
    "s1[:,6]"
   ]
  },
  {
   "cell_type": "code",
   "execution_count": 144,
   "id": "0c012827-941b-4f24-b6a9-291ff304b0a9",
   "metadata": {},
   "outputs": [
    {
     "data": {
      "text/plain": [
       "array([ 10,  20,  30,  40,  50,  60,  70,  80,  90, 100])"
      ]
     },
     "execution_count": 144,
     "metadata": {},
     "output_type": "execute_result"
    }
   ],
   "source": [
    "s1[:,9]"
   ]
  },
  {
   "cell_type": "markdown",
   "id": "f698d154-0d5a-4597-87df-d1a441af313e",
   "metadata": {},
   "source": [
    "## A specific row is displayed(  , :)"
   ]
  },
  {
   "cell_type": "code",
   "execution_count": 146,
   "id": "928ad1f3-1834-4a79-9df2-520fa3b67f57",
   "metadata": {},
   "outputs": [
    {
     "data": {
      "text/plain": [
       "array([51, 52, 53, 54, 55, 56, 57, 58, 59, 60])"
      ]
     },
     "execution_count": 146,
     "metadata": {},
     "output_type": "execute_result"
    }
   ],
   "source": [
    "s1[5,:] # 4 row is represented usling SliceIndexing together......  "
   ]
  },
  {
   "cell_type": "code",
   "execution_count": 147,
   "id": "7180ee7a-0754-4182-af40-9eaa219a10ad",
   "metadata": {},
   "outputs": [
    {
     "data": {
      "text/plain": [
       "array([71, 72, 73, 74, 75, 76, 77, 78, 79, 80])"
      ]
     },
     "execution_count": 147,
     "metadata": {},
     "output_type": "execute_result"
    }
   ],
   "source": [
    "s1[7,:]"
   ]
  },
  {
   "cell_type": "code",
   "execution_count": 148,
   "id": "987bd77a-a828-45eb-8f20-7d4767194809",
   "metadata": {},
   "outputs": [
    {
     "data": {
      "text/plain": [
       "array([ 8, 18, 28, 38, 48, 58, 68, 78, 88, 98])"
      ]
     },
     "execution_count": 148,
     "metadata": {},
     "output_type": "execute_result"
    }
   ],
   "source": [
    "s1[:,-3] "
   ]
  },
  {
   "cell_type": "code",
   "execution_count": 149,
   "id": "403745a5-5dee-4829-87b7-583230845162",
   "metadata": {},
   "outputs": [
    {
     "data": {
      "text/plain": [
       "array([21, 22, 23, 24, 25, 26, 27, 28, 29, 30])"
      ]
     },
     "execution_count": 149,
     "metadata": {},
     "output_type": "execute_result"
    }
   ],
   "source": [
    "s1[-8,:]  # Revers indexing for rows "
   ]
  },
  {
   "cell_type": "code",
   "execution_count": 150,
   "id": "641e5c4a-ebd2-4ec9-96e8-40a34515ecd1",
   "metadata": {},
   "outputs": [
    {
     "data": {
      "text/plain": [
       "array([[  1,   2,   3,   4,   5,   6,   7,   8,   9,  10],\n",
       "       [ 11,  12,  13,  14,  15,  16,  17,  18,  19,  20],\n",
       "       [ 21,  22,  23,  24,  25,  26,  27,  28,  29,  30],\n",
       "       [ 31,  32,  33,  34,  35,  36,  37,  38,  39,  40],\n",
       "       [ 41,  42,  43,  44,  45,  46,  47,  48,  49,  50],\n",
       "       [ 51,  52,  53,  54,  55,  56,  57,  58,  59,  60],\n",
       "       [ 61,  62,  63,  64,  65,  66,  67,  68,  69,  70],\n",
       "       [ 71,  72,  73,  74,  75,  76,  77,  78,  79,  80],\n",
       "       [ 81,  82,  83,  84,  85,  86,  87,  88,  89,  90],\n",
       "       [ 91,  92,  93,  94,  95,  96,  97,  98,  99, 100]])"
      ]
     },
     "execution_count": 150,
     "metadata": {},
     "output_type": "execute_result"
    }
   ],
   "source": [
    "s1"
   ]
  },
  {
   "cell_type": "code",
   "execution_count": null,
   "id": "0a8e9220-604b-49ca-879f-bdd103cf652e",
   "metadata": {},
   "outputs": [],
   "source": []
  },
  {
   "cell_type": "markdown",
   "id": "6441188c-c218-469c-994b-739f9926bf32",
   "metadata": {},
   "source": [
    "## Marking or Filtering "
   ]
  },
  {
   "cell_type": "code",
   "execution_count": 152,
   "id": "b694a22b-8b26-4db8-a40e-e552586237e5",
   "metadata": {},
   "outputs": [
    {
     "data": {
      "text/plain": [
       "array([[  1,   2,   3,   4,   5,   6,   7,   8,   9,  10],\n",
       "       [ 11,  12,  13,  14,  15,  16,  17,  18,  19,  20],\n",
       "       [ 21,  22,  23,  24,  25,  26,  27,  28,  29,  30],\n",
       "       [ 31,  32,  33,  34,  35,  36,  37,  38,  39,  40],\n",
       "       [ 41,  42,  43,  44,  45,  46,  47,  48,  49,  50],\n",
       "       [ 51,  52,  53,  54,  55,  56,  57,  58,  59,  60],\n",
       "       [ 61,  62,  63,  64,  65,  66,  67,  68,  69,  70],\n",
       "       [ 71,  72,  73,  74,  75,  76,  77,  78,  79,  80],\n",
       "       [ 81,  82,  83,  84,  85,  86,  87,  88,  89,  90],\n",
       "       [ 91,  92,  93,  94,  95,  96,  97,  98,  99, 100]])"
      ]
     },
     "execution_count": 152,
     "metadata": {},
     "output_type": "execute_result"
    }
   ],
   "source": [
    "s1"
   ]
  },
  {
   "cell_type": "code",
   "execution_count": 153,
   "id": "f813d869-d72b-4cbe-b0b8-c01527246776",
   "metadata": {},
   "outputs": [
    {
     "data": {
      "text/plain": [
       "array([[False, False, False, False, False, False, False, False, False,\n",
       "        False],\n",
       "       [False, False, False, False, False, False, False, False, False,\n",
       "        False],\n",
       "       [False, False, False, False, False, False, False, False, False,\n",
       "        False],\n",
       "       [False, False, False, False, False, False, False, False, False,\n",
       "        False],\n",
       "       [False, False, False, False, False, False, False, False, False,\n",
       "        False],\n",
       "       [False,  True,  True,  True,  True,  True,  True,  True,  True,\n",
       "         True],\n",
       "       [ True,  True,  True,  True,  True,  True,  True,  True,  True,\n",
       "         True],\n",
       "       [ True,  True,  True,  True,  True,  True,  True,  True,  True,\n",
       "         True],\n",
       "       [ True,  True,  True,  True,  True,  True,  True,  True,  True,\n",
       "         True],\n",
       "       [ True,  True,  True,  True,  True,  True,  True,  True,  True,\n",
       "         True]])"
      ]
     },
     "execution_count": 153,
     "metadata": {},
     "output_type": "execute_result"
    }
   ],
   "source": [
    "s1>51  # Boolean Values are given if less than 51 (False) greater than 51(True)"
   ]
  },
  {
   "cell_type": "code",
   "execution_count": 154,
   "id": "c11c5f56-c57c-4d59-b9c1-8493fa12d686",
   "metadata": {},
   "outputs": [
    {
     "data": {
      "text/plain": [
       "array([ 52,  53,  54,  55,  56,  57,  58,  59,  60,  61,  62,  63,  64,\n",
       "        65,  66,  67,  68,  69,  70,  71,  72,  73,  74,  75,  76,  77,\n",
       "        78,  79,  80,  81,  82,  83,  84,  85,  86,  87,  88,  89,  90,\n",
       "        91,  92,  93,  94,  95,  96,  97,  98,  99, 100])"
      ]
     },
     "execution_count": 154,
     "metadata": {},
     "output_type": "execute_result"
    }
   ],
   "source": [
    "s1[s1>51] # Int are displayed which are greater than (51)"
   ]
  },
  {
   "cell_type": "code",
   "execution_count": 155,
   "id": "4fb94193-8095-4c4d-88cd-956f9df664da",
   "metadata": {},
   "outputs": [
    {
     "data": {
      "text/plain": [
       "array([[  1,   2,   3,   4,   5,   6,   7,   8,   9,  10],\n",
       "       [ 11,  12,  13,  14,  15,  16,  17,  18,  19,  20],\n",
       "       [ 21,  22,  23,  24,  25,  26,  27,  28,  29,  30],\n",
       "       [ 31,  32,  33,  34,  35,  36,  37,  38,  39,  40],\n",
       "       [ 41,  42,  43,  44,  45,  46,  47,  48,  49,  50],\n",
       "       [ 51,  52,  53,  54,  55,  56,  57,  58,  59,  60],\n",
       "       [ 61,  62,  63,  64,  65,  66,  67,  68,  69,  70],\n",
       "       [ 71,  72,  73,  74,  75,  76,  77,  78,  79,  80],\n",
       "       [ 81,  82,  83,  84,  85,  86,  87,  88,  89,  90],\n",
       "       [ 91,  92,  93,  94,  95,  96,  97,  98,  99, 100]])"
      ]
     },
     "execution_count": 155,
     "metadata": {},
     "output_type": "execute_result"
    }
   ],
   "source": [
    "s1"
   ]
  },
  {
   "cell_type": "code",
   "execution_count": 156,
   "id": "259b8d21-5922-42ae-8555-83124a40e4ae",
   "metadata": {},
   "outputs": [
    {
     "data": {
      "text/plain": [
       "array([[ True,  True,  True,  True,  True,  True,  True,  True,  True,\n",
       "         True],\n",
       "       [ True,  True,  True,  True,  True,  True,  True,  True,  True,\n",
       "         True],\n",
       "       [ True,  True,  True,  True,  True,  True,  True,  True,  True,\n",
       "         True],\n",
       "       [ True,  True,  True,  True,  True,  True,  True,  True,  True,\n",
       "         True],\n",
       "       [ True,  True,  True,  True,  True,  True,  True,  True,  True,\n",
       "         True],\n",
       "       [False, False, False, False, False, False, False, False, False,\n",
       "        False],\n",
       "       [False, False, False, False, False, False, False, False, False,\n",
       "        False],\n",
       "       [False, False, False, False, False, False, False, False, False,\n",
       "        False],\n",
       "       [False, False, False, False, False, False, False, False, False,\n",
       "        False],\n",
       "       [False, False, False, False, False, False, False, False, False,\n",
       "        False]])"
      ]
     },
     "execution_count": 156,
     "metadata": {},
     "output_type": "execute_result"
    }
   ],
   "source": [
    "s1<51  "
   ]
  },
  {
   "cell_type": "code",
   "execution_count": 157,
   "id": "f95c5a41-aef8-4f48-a786-710bdecfed0a",
   "metadata": {},
   "outputs": [
    {
     "data": {
      "text/plain": [
       "array([ 1,  2,  3,  4,  5,  6,  7,  8,  9, 10, 11, 12, 13, 14, 15, 16, 17,\n",
       "       18, 19, 20, 21, 22, 23, 24, 25, 26, 27, 28, 29, 30, 31, 32, 33, 34,\n",
       "       35, 36, 37, 38, 39, 40, 41, 42, 43, 44, 45, 46, 47, 48, 49, 50])"
      ]
     },
     "execution_count": 157,
     "metadata": {},
     "output_type": "execute_result"
    }
   ],
   "source": [
    "s1[s1<51]  # less than 51 are displayed "
   ]
  },
  {
   "cell_type": "code",
   "execution_count": null,
   "id": "c9888c53-7caa-4163-a479-fc3b8d2f9e36",
   "metadata": {},
   "outputs": [],
   "source": []
  },
  {
   "cell_type": "markdown",
   "id": "e5ec8af8-8453-4775-bebd-3af08cb6aa36",
   "metadata": {},
   "source": [
    "## Selective Marix for the matrix available  "
   ]
  },
  {
   "cell_type": "code",
   "execution_count": 159,
   "id": "14fcda68-a254-47c7-9b86-4be44d2e8c41",
   "metadata": {},
   "outputs": [
    {
     "data": {
      "text/plain": [
       "array([[  1,   2,   3,   4,   5,   6,   7,   8,   9,  10],\n",
       "       [ 11,  12,  13,  14,  15,  16,  17,  18,  19,  20],\n",
       "       [ 21,  22,  23,  24,  25,  26,  27,  28,  29,  30],\n",
       "       [ 31,  32,  33,  34,  35,  36,  37,  38,  39,  40],\n",
       "       [ 41,  42,  43,  44,  45,  46,  47,  48,  49,  50],\n",
       "       [ 51,  52,  53,  54,  55,  56,  57,  58,  59,  60],\n",
       "       [ 61,  62,  63,  64,  65,  66,  67,  68,  69,  70],\n",
       "       [ 71,  72,  73,  74,  75,  76,  77,  78,  79,  80],\n",
       "       [ 81,  82,  83,  84,  85,  86,  87,  88,  89,  90],\n",
       "       [ 91,  92,  93,  94,  95,  96,  97,  98,  99, 100]])"
      ]
     },
     "execution_count": 159,
     "metadata": {},
     "output_type": "execute_result"
    }
   ],
   "source": [
    "s1"
   ]
  },
  {
   "cell_type": "code",
   "execution_count": 160,
   "id": "4b26ab75-dfd3-4a4b-a537-936060f86dc6",
   "metadata": {},
   "outputs": [
    {
     "data": {
      "text/plain": [
       "array([[25, 26, 27],\n",
       "       [35, 36, 37],\n",
       "       [45, 46, 47]])"
      ]
     },
     "execution_count": 160,
     "metadata": {},
     "output_type": "execute_result"
    }
   ],
   "source": [
    "s1[2:5,4:7]  # A perticular 3*3 matrix is retrived from the s1"
   ]
  },
  {
   "cell_type": "code",
   "execution_count": 161,
   "id": "512ecbc6-6899-47e1-bcd9-e5061d48bfed",
   "metadata": {},
   "outputs": [
    {
     "data": {
      "text/plain": [
       "array([[43, 44, 45, 46, 47],\n",
       "       [53, 54, 55, 56, 57],\n",
       "       [63, 64, 65, 66, 67]])"
      ]
     },
     "execution_count": 161,
     "metadata": {},
     "output_type": "execute_result"
    }
   ],
   "source": [
    "s1[4:7,2:7]"
   ]
  },
  {
   "cell_type": "code",
   "execution_count": null,
   "id": "fff7bb9c-4bcb-418f-813b-6c5d207d5833",
   "metadata": {},
   "outputs": [],
   "source": []
  },
  {
   "cell_type": "code",
   "execution_count": 162,
   "id": "bab012c6-69e8-47b4-8432-36bd16754e0d",
   "metadata": {},
   "outputs": [],
   "source": [
    "s2=np.arange(1,31).reshape(5,6)"
   ]
  },
  {
   "cell_type": "code",
   "execution_count": 163,
   "id": "530898e7-6fcd-4d54-94bd-379230b4d095",
   "metadata": {},
   "outputs": [
    {
     "data": {
      "text/plain": [
       "array([[ 1,  2,  3,  4,  5,  6],\n",
       "       [ 7,  8,  9, 10, 11, 12],\n",
       "       [13, 14, 15, 16, 17, 18],\n",
       "       [19, 20, 21, 22, 23, 24],\n",
       "       [25, 26, 27, 28, 29, 30]])"
      ]
     },
     "execution_count": 163,
     "metadata": {},
     "output_type": "execute_result"
    }
   ],
   "source": [
    "s2"
   ]
  },
  {
   "cell_type": "code",
   "execution_count": 164,
   "id": "2e90d80b-e952-4f16-9f5d-e7fb5e65d10b",
   "metadata": {},
   "outputs": [
    {
     "data": {
      "text/plain": [
       "array([[ 8,  9, 10],\n",
       "       [14, 15, 16],\n",
       "       [20, 21, 22]])"
      ]
     },
     "execution_count": 164,
     "metadata": {},
     "output_type": "execute_result"
    }
   ],
   "source": [
    "s2[1:4,1:4] # creating a 3*3 Matrix from the midle of the matrix"
   ]
  },
  {
   "cell_type": "code",
   "execution_count": 165,
   "id": "6b43117b-b1fa-471e-b4e5-0c4f0dadd79c",
   "metadata": {},
   "outputs": [
    {
     "data": {
      "text/plain": [
       "array([[16, 17, 18],\n",
       "       [22, 23, 24],\n",
       "       [28, 29, 30]])"
      ]
     },
     "execution_count": 165,
     "metadata": {},
     "output_type": "execute_result"
    }
   ],
   "source": [
    "s2[2:5,3:6] # Creating a 3*3 matrix from the  given matrix"
   ]
  },
  {
   "cell_type": "code",
   "execution_count": 166,
   "id": "341774d8-bf91-4e84-b04c-8fffc3ad0ed0",
   "metadata": {},
   "outputs": [
    {
     "data": {
      "text/plain": [
       "array([[ 4,  5,  6],\n",
       "       [10, 11, 12]])"
      ]
     },
     "execution_count": 166,
     "metadata": {},
     "output_type": "execute_result"
    }
   ],
   "source": [
    "s2[0:2,3:6] # Creating a matrix from maxtrix with 2 rows and 3 columns"
   ]
  },
  {
   "cell_type": "code",
   "execution_count": 167,
   "id": "6792cb34-94a8-4367-b713-f578ff33fa66",
   "metadata": {},
   "outputs": [
    {
     "data": {
      "text/plain": [
       "array([[ 1,  2,  3,  4,  5,  6],\n",
       "       [ 7,  8,  9, 10, 11, 12],\n",
       "       [13, 14, 15, 16, 17, 18],\n",
       "       [19, 20, 21, 22, 23, 24],\n",
       "       [25, 26, 27, 28, 29, 30]])"
      ]
     },
     "execution_count": 167,
     "metadata": {},
     "output_type": "execute_result"
    }
   ],
   "source": [
    "s2"
   ]
  },
  {
   "cell_type": "code",
   "execution_count": 168,
   "id": "e577102e-922d-43c9-8493-f7e42622066a",
   "metadata": {},
   "outputs": [],
   "source": [
    "# Create a MAtrix of 3*3 with [1,2,3] [7,8,9] [13,14,15]"
   ]
  },
  {
   "cell_type": "code",
   "execution_count": 169,
   "id": "55ce06bb-c92a-4ab4-b114-64a5a6353db3",
   "metadata": {},
   "outputs": [
    {
     "data": {
      "text/plain": [
       "array([[ 1,  2,  3],\n",
       "       [ 7,  8,  9],\n",
       "       [13, 14, 15]])"
      ]
     },
     "execution_count": 169,
     "metadata": {},
     "output_type": "execute_result"
    }
   ],
   "source": [
    "s2[0:3,0:3]"
   ]
  },
  {
   "cell_type": "code",
   "execution_count": 170,
   "id": "25a1ce06-ea0c-4867-ae04-a94bdf649053",
   "metadata": {},
   "outputs": [],
   "source": [
    "# Create a MAtrix of 3*3 with [13,14,15] [19,20,21] [25,26,27]"
   ]
  },
  {
   "cell_type": "code",
   "execution_count": 171,
   "id": "112eb6e1-3702-4e6c-bad4-6c4e06690acc",
   "metadata": {},
   "outputs": [
    {
     "data": {
      "text/plain": [
       "array([[13, 14, 15],\n",
       "       [19, 20, 21],\n",
       "       [25, 26, 27]])"
      ]
     },
     "execution_count": 171,
     "metadata": {},
     "output_type": "execute_result"
    }
   ],
   "source": [
    "s2[2:5,0:3]"
   ]
  },
  {
   "cell_type": "code",
   "execution_count": 172,
   "id": "dc006661-8ce2-4f2e-9b64-f3252f375e0d",
   "metadata": {},
   "outputs": [
    {
     "data": {
      "text/plain": [
       "array([[ 1,  2,  3,  4,  5],\n",
       "       [ 6,  7,  8,  9, 10],\n",
       "       [11, 12, 13, 14, 15],\n",
       "       [16, 17, 18, 19, 20]])"
      ]
     },
     "execution_count": 172,
     "metadata": {},
     "output_type": "execute_result"
    }
   ],
   "source": [
    "z"
   ]
  },
  {
   "cell_type": "markdown",
   "id": "93661deb-45cc-434b-9d19-f80a2d4786f2",
   "metadata": {},
   "source": [
    "## To represent a perticular rows from the matrix"
   ]
  },
  {
   "cell_type": "code",
   "execution_count": 174,
   "id": "b450fff3-c5cf-4287-9b83-75f9ea7bf49f",
   "metadata": {},
   "outputs": [
    {
     "data": {
      "text/plain": [
       "array([[ 1,  2,  3,  4,  5],\n",
       "       [11, 12, 13, 14, 15],\n",
       "       [16, 17, 18, 19, 20]])"
      ]
     },
     "execution_count": 174,
     "metadata": {},
     "output_type": "execute_result"
    }
   ],
   "source": [
    "z[[0,2,3]] "
   ]
  },
  {
   "cell_type": "code",
   "execution_count": 175,
   "id": "819b8df0-c9b2-4df7-8091-a9a2fba25178",
   "metadata": {},
   "outputs": [
    {
     "data": {
      "text/plain": [
       "array([[ 0,  1,  2,  3,  4,  5],\n",
       "       [ 6,  7,  8,  9, 10, 11],\n",
       "       [12, 13, 14, 15, 16, 17],\n",
       "       [18, 19, 20, 21, 22, 23],\n",
       "       [24, 25, 26, 27, 28, 29]])"
      ]
     },
     "execution_count": 175,
     "metadata": {},
     "output_type": "execute_result"
    }
   ],
   "source": [
    "w=np.arange(30).reshape(5,6)\n",
    "w"
   ]
  },
  {
   "cell_type": "code",
   "execution_count": 176,
   "id": "23cdaa60-92f0-4ccc-8093-0911c199ccc5",
   "metadata": {},
   "outputs": [
    {
     "data": {
      "text/plain": [
       "array([[ 0,  1,  2,  3,  4,  5],\n",
       "       [12, 13, 14, 15, 16, 17],\n",
       "       [18, 19, 20, 21, 22, 23]])"
      ]
     },
     "execution_count": 176,
     "metadata": {},
     "output_type": "execute_result"
    }
   ],
   "source": [
    "w[[0,2,3]]"
   ]
  },
  {
   "cell_type": "code",
   "execution_count": 177,
   "id": "87deb610-bfb6-42f4-bb42-0b0f78d35f55",
   "metadata": {},
   "outputs": [],
   "source": [
    "z=np.random.randint(0,2,(3,3))"
   ]
  },
  {
   "cell_type": "code",
   "execution_count": 178,
   "id": "28793369-d259-47b2-a6f1-fcd2ed78906f",
   "metadata": {},
   "outputs": [
    {
     "data": {
      "text/plain": [
       "array([[1, 0, 1],\n",
       "       [1, 0, 1],\n",
       "       [0, 1, 1]])"
      ]
     },
     "execution_count": 178,
     "metadata": {},
     "output_type": "execute_result"
    }
   ],
   "source": [
    "z"
   ]
  },
  {
   "cell_type": "code",
   "execution_count": 179,
   "id": "a8fce3bc-c885-4372-96cb-2c7b0a0a1724",
   "metadata": {},
   "outputs": [
    {
     "data": {
      "text/plain": [
       "array([ 2,  8, 14, 20, 26])"
      ]
     },
     "execution_count": 179,
     "metadata": {},
     "output_type": "execute_result"
    }
   ],
   "source": [
    "w[:,2]"
   ]
  },
  {
   "cell_type": "code",
   "execution_count": 180,
   "id": "3e9a44e9-e784-4c4b-9b00-4b24445f221c",
   "metadata": {},
   "outputs": [
    {
     "data": {
      "text/plain": [
       "array([[ 0,  1,  2,  3,  4,  5],\n",
       "       [ 6,  7,  8,  9, 10, 11],\n",
       "       [12, 13, 14, 15, 16, 17],\n",
       "       [18, 19, 20, 21, 22, 23],\n",
       "       [24, 25, 26, 27, 28, 29]])"
      ]
     },
     "execution_count": 180,
     "metadata": {},
     "output_type": "execute_result"
    }
   ],
   "source": [
    "w"
   ]
  },
  {
   "cell_type": "markdown",
   "id": "a1235a65-579c-42c4-bf0f-14ed5b3bf6e7",
   "metadata": {},
   "source": [
    "# Even numbers from matrix"
   ]
  },
  {
   "cell_type": "code",
   "execution_count": 182,
   "id": "2075bbe7-501e-4fba-8aaa-6c3164e933cc",
   "metadata": {},
   "outputs": [],
   "source": [
    "def print_even_numbers(w):\n",
    "    for rows in w:\n",
    "     for element in rows:\n",
    "      if element % 2 == 0:\n",
    "         print(element,end=\" \")"
   ]
  },
  {
   "cell_type": "code",
   "execution_count": 183,
   "id": "61a98e47-4c4e-49aa-84d9-4a2a0621b7bd",
   "metadata": {},
   "outputs": [
    {
     "name": "stdout",
     "output_type": "stream",
     "text": [
      "0 2 4 6 8 10 12 14 16 18 20 22 24 26 28 "
     ]
    }
   ],
   "source": [
    "print_even_numbers(w)"
   ]
  },
  {
   "cell_type": "code",
   "execution_count": 184,
   "id": "1e1259f4-e93d-4cc4-87a1-d67c6c561e76",
   "metadata": {},
   "outputs": [],
   "source": [
    "s=np.arange(60).reshape(10,6)"
   ]
  },
  {
   "cell_type": "code",
   "execution_count": 185,
   "id": "d7f9c93e-ff70-4ff7-bb5f-41d32f0756bd",
   "metadata": {},
   "outputs": [
    {
     "data": {
      "text/plain": [
       "array([[ 0,  1,  2,  3,  4,  5],\n",
       "       [ 6,  7,  8,  9, 10, 11],\n",
       "       [12, 13, 14, 15, 16, 17],\n",
       "       [18, 19, 20, 21, 22, 23],\n",
       "       [24, 25, 26, 27, 28, 29],\n",
       "       [30, 31, 32, 33, 34, 35],\n",
       "       [36, 37, 38, 39, 40, 41],\n",
       "       [42, 43, 44, 45, 46, 47],\n",
       "       [48, 49, 50, 51, 52, 53],\n",
       "       [54, 55, 56, 57, 58, 59]])"
      ]
     },
     "execution_count": 185,
     "metadata": {},
     "output_type": "execute_result"
    }
   ],
   "source": [
    "s"
   ]
  },
  {
   "cell_type": "code",
   "execution_count": 186,
   "id": "d6cf985b-8d18-4c5b-a110-b6f880c7ef0a",
   "metadata": {},
   "outputs": [],
   "source": [
    "def print_even(s):\n",
    "    for row in s:\n",
    "        for elements in row:\n",
    "            if elements %2==0:\n",
    "                print(elements,end=\" \")"
   ]
  },
  {
   "cell_type": "code",
   "execution_count": 187,
   "id": "6984ff6c-c852-4907-a2f4-9448babbdda2",
   "metadata": {},
   "outputs": [
    {
     "name": "stdout",
     "output_type": "stream",
     "text": [
      "0 2 4 6 8 10 12 14 16 18 20 22 24 26 28 30 32 34 36 38 40 42 44 46 48 50 52 54 56 58 "
     ]
    }
   ],
   "source": [
    "print_even(s)"
   ]
  },
  {
   "cell_type": "code",
   "execution_count": null,
   "id": "372e75c2-117a-4c19-a1b5-1dd3305e7bc7",
   "metadata": {},
   "outputs": [],
   "source": []
  },
  {
   "cell_type": "markdown",
   "id": "5ce88cff-8112-4ccd-b362-d48a0720a618",
   "metadata": {},
   "source": [
    "# Odd numbers from matrix"
   ]
  },
  {
   "cell_type": "code",
   "execution_count": 189,
   "id": "0455a3b1-08f7-4079-a25f-bccfeab3cce4",
   "metadata": {},
   "outputs": [],
   "source": [
    "def print_odd_number(w):\n",
    "    for row in w:\n",
    "        for elements in row:\n",
    "            if elements % 2 != 0:\n",
    "                 print(elements,end=\" \")"
   ]
  },
  {
   "cell_type": "code",
   "execution_count": 190,
   "id": "d31022ce-3e72-414f-bedd-a2831ff28f3f",
   "metadata": {},
   "outputs": [
    {
     "name": "stdout",
     "output_type": "stream",
     "text": [
      "1 3 5 7 9 11 13 15 17 19 21 23 25 27 29 "
     ]
    }
   ],
   "source": [
    " print_odd_number(w)"
   ]
  },
  {
   "cell_type": "code",
   "execution_count": 191,
   "id": "ce2ceb98-a2be-4e84-838e-d6e0dfb15b4d",
   "metadata": {},
   "outputs": [
    {
     "data": {
      "text/plain": [
       "array([[ 0,  1,  2,  3,  4,  5],\n",
       "       [ 6,  7,  8,  9, 10, 11],\n",
       "       [12, 13, 14, 15, 16, 17],\n",
       "       [18, 19, 20, 21, 22, 23],\n",
       "       [24, 25, 26, 27, 28, 29],\n",
       "       [30, 31, 32, 33, 34, 35],\n",
       "       [36, 37, 38, 39, 40, 41],\n",
       "       [42, 43, 44, 45, 46, 47],\n",
       "       [48, 49, 50, 51, 52, 53],\n",
       "       [54, 55, 56, 57, 58, 59]])"
      ]
     },
     "execution_count": 191,
     "metadata": {},
     "output_type": "execute_result"
    }
   ],
   "source": [
    "s"
   ]
  },
  {
   "cell_type": "code",
   "execution_count": 192,
   "id": "f2517872-3486-4646-93ef-fcdc0e8936fc",
   "metadata": {},
   "outputs": [],
   "source": [
    "def print_odd(s):\n",
    "    for row in s:\n",
    "        for elements in row:\n",
    "            if elements %2!=0:\n",
    "                print(elements,end=\" \")"
   ]
  },
  {
   "cell_type": "code",
   "execution_count": 193,
   "id": "97371e60-c3a4-4ab3-9b17-98d6f76ae597",
   "metadata": {},
   "outputs": [
    {
     "name": "stdout",
     "output_type": "stream",
     "text": [
      "1 3 5 7 9 11 13 15 17 19 21 23 25 27 29 31 33 35 37 39 41 43 45 47 49 51 53 55 57 59 "
     ]
    }
   ],
   "source": [
    "print_odd(s)"
   ]
  },
  {
   "cell_type": "code",
   "execution_count": null,
   "id": "04419ae5-9d42-43ab-a1ea-99aae56a6beb",
   "metadata": {},
   "outputs": [],
   "source": []
  },
  {
   "cell_type": "code",
   "execution_count": null,
   "id": "a43ed281-c02a-4e36-8c8e-f17e96c81f1e",
   "metadata": {},
   "outputs": [],
   "source": []
  },
  {
   "cell_type": "markdown",
   "id": "c1fff2a5-1857-4b44-a113-195d85ae86ab",
   "metadata": {},
   "source": [
    "#  Matrix function with rows and columns"
   ]
  },
  {
   "cell_type": "code",
   "execution_count": 195,
   "id": "e0562e99-48a6-4118-b481-08c548e4d7a0",
   "metadata": {},
   "outputs": [],
   "source": [
    "a=np.arange(1,101).reshape(10,10)"
   ]
  },
  {
   "cell_type": "code",
   "execution_count": 196,
   "id": "cb3d1af1-bad3-492e-b985-f2fde9b2fade",
   "metadata": {},
   "outputs": [],
   "source": [
    "b=np.arange(1,101).reshape(10,10)"
   ]
  },
  {
   "cell_type": "code",
   "execution_count": 197,
   "id": "5d6cdd8a-041a-4c83-8be0-bbfb203248d3",
   "metadata": {},
   "outputs": [
    {
     "data": {
      "text/plain": [
       "array([[  1,   2,   3,   4,   5,   6,   7,   8,   9,  10],\n",
       "       [ 11,  12,  13,  14,  15,  16,  17,  18,  19,  20],\n",
       "       [ 21,  22,  23,  24,  25,  26,  27,  28,  29,  30],\n",
       "       [ 31,  32,  33,  34,  35,  36,  37,  38,  39,  40],\n",
       "       [ 41,  42,  43,  44,  45,  46,  47,  48,  49,  50],\n",
       "       [ 51,  52,  53,  54,  55,  56,  57,  58,  59,  60],\n",
       "       [ 61,  62,  63,  64,  65,  66,  67,  68,  69,  70],\n",
       "       [ 71,  72,  73,  74,  75,  76,  77,  78,  79,  80],\n",
       "       [ 81,  82,  83,  84,  85,  86,  87,  88,  89,  90],\n",
       "       [ 91,  92,  93,  94,  95,  96,  97,  98,  99, 100]])"
      ]
     },
     "execution_count": 197,
     "metadata": {},
     "output_type": "execute_result"
    }
   ],
   "source": [
    "a"
   ]
  },
  {
   "cell_type": "code",
   "execution_count": 198,
   "id": "1f04fe0e-657a-4ff5-b44c-32d6ffbc0fc0",
   "metadata": {},
   "outputs": [],
   "source": [
    "b[::-1]=b"
   ]
  },
  {
   "cell_type": "code",
   "execution_count": 199,
   "id": "51047630-e7ac-451b-908d-950f22ae6b10",
   "metadata": {},
   "outputs": [
    {
     "data": {
      "text/plain": [
       "array([[ 91,  92,  93,  94,  95,  96,  97,  98,  99, 100],\n",
       "       [ 81,  82,  83,  84,  85,  86,  87,  88,  89,  90],\n",
       "       [ 71,  72,  73,  74,  75,  76,  77,  78,  79,  80],\n",
       "       [ 61,  62,  63,  64,  65,  66,  67,  68,  69,  70],\n",
       "       [ 51,  52,  53,  54,  55,  56,  57,  58,  59,  60],\n",
       "       [ 41,  42,  43,  44,  45,  46,  47,  48,  49,  50],\n",
       "       [ 31,  32,  33,  34,  35,  36,  37,  38,  39,  40],\n",
       "       [ 21,  22,  23,  24,  25,  26,  27,  28,  29,  30],\n",
       "       [ 11,  12,  13,  14,  15,  16,  17,  18,  19,  20],\n",
       "       [  1,   2,   3,   4,   5,   6,   7,   8,   9,  10]])"
      ]
     },
     "execution_count": 199,
     "metadata": {},
     "output_type": "execute_result"
    }
   ],
   "source": [
    "b"
   ]
  },
  {
   "cell_type": "code",
   "execution_count": 200,
   "id": "bc31ce03-d663-4246-810a-8e2205e5bf05",
   "metadata": {},
   "outputs": [
    {
     "data": {
      "text/plain": [
       "array([ 1,  2,  3,  4,  5,  6,  7,  8,  9, 10])"
      ]
     },
     "execution_count": 200,
     "metadata": {},
     "output_type": "execute_result"
    }
   ],
   "source": [
    "a[0,:] # first row"
   ]
  },
  {
   "cell_type": "code",
   "execution_count": 201,
   "id": "6a19a49f-29ac-4541-b982-be0a9637df1e",
   "metadata": {},
   "outputs": [
    {
     "data": {
      "text/plain": [
       "array([91, 81, 71, 61, 51, 41, 31, 21, 11,  1])"
      ]
     },
     "execution_count": 201,
     "metadata": {},
     "output_type": "execute_result"
    }
   ],
   "source": [
    "b[:,0] #first column "
   ]
  },
  {
   "cell_type": "code",
   "execution_count": 202,
   "id": "6f15f374-c3f6-493a-9a21-5f0287a841ea",
   "metadata": {},
   "outputs": [
    {
     "data": {
      "text/plain": [
       "array([ 91, 162, 213, 244, 255, 246, 217, 168,  99,  10])"
      ]
     },
     "execution_count": 202,
     "metadata": {},
     "output_type": "execute_result"
    }
   ],
   "source": [
    "a[0,:]*b[:,0]  # row * column operation"
   ]
  },
  {
   "cell_type": "code",
   "execution_count": 203,
   "id": "7958a948-7a43-4200-86dc-e516941504fc",
   "metadata": {},
   "outputs": [
    {
     "data": {
      "text/plain": [
       "array([[  1,   2,   3,   4,   5,   6,   7,   8,   9,  10],\n",
       "       [ 11,  12,  13,  14,  15,  16,  17,  18,  19,  20],\n",
       "       [ 21,  22,  23,  24,  25,  26,  27,  28,  29,  30],\n",
       "       [ 31,  32,  33,  34,  35,  36,  37,  38,  39,  40],\n",
       "       [ 41,  42,  43,  44,  45,  46,  47,  48,  49,  50],\n",
       "       [ 51,  52,  53,  54,  55,  56,  57,  58,  59,  60],\n",
       "       [ 61,  62,  63,  64,  65,  66,  67,  68,  69,  70],\n",
       "       [ 71,  72,  73,  74,  75,  76,  77,  78,  79,  80],\n",
       "       [ 81,  82,  83,  84,  85,  86,  87,  88,  89,  90],\n",
       "       [ 91,  92,  93,  94,  95,  96,  97,  98,  99, 100]])"
      ]
     },
     "execution_count": 203,
     "metadata": {},
     "output_type": "execute_result"
    }
   ],
   "source": [
    "a"
   ]
  },
  {
   "cell_type": "code",
   "execution_count": 204,
   "id": "2d8fce0d-eff9-4579-a7a5-e619fba8388d",
   "metadata": {},
   "outputs": [
    {
     "data": {
      "text/plain": [
       "array([[12, 13, 14, 15],\n",
       "       [22, 23, 24, 25],\n",
       "       [32, 33, 34, 35],\n",
       "       [42, 43, 44, 45]])"
      ]
     },
     "execution_count": 204,
     "metadata": {},
     "output_type": "execute_result"
    }
   ],
   "source": [
    "d=a[1:5,1:5]\n",
    "d"
   ]
  },
  {
   "cell_type": "code",
   "execution_count": 205,
   "id": "707e07a4-c519-4bef-a201-de70bee37c1e",
   "metadata": {},
   "outputs": [
    {
     "data": {
      "text/plain": [
       "array([[ 91,  92,  93,  94,  95,  96,  97,  98,  99, 100],\n",
       "       [ 81,  82,  83,  84,  85,  86,  87,  88,  89,  90],\n",
       "       [ 71,  72,  73,  74,  75,  76,  77,  78,  79,  80],\n",
       "       [ 61,  62,  63,  64,  65,  66,  67,  68,  69,  70],\n",
       "       [ 51,  52,  53,  54,  55,  56,  57,  58,  59,  60],\n",
       "       [ 41,  42,  43,  44,  45,  46,  47,  48,  49,  50],\n",
       "       [ 31,  32,  33,  34,  35,  36,  37,  38,  39,  40],\n",
       "       [ 21,  22,  23,  24,  25,  26,  27,  28,  29,  30],\n",
       "       [ 11,  12,  13,  14,  15,  16,  17,  18,  19,  20],\n",
       "       [  1,   2,   3,   4,   5,   6,   7,   8,   9,  10]])"
      ]
     },
     "execution_count": 205,
     "metadata": {},
     "output_type": "execute_result"
    }
   ],
   "source": [
    "b"
   ]
  },
  {
   "cell_type": "code",
   "execution_count": 206,
   "id": "6bb7c3bc-a685-42a5-a6a9-0fdc96551f01",
   "metadata": {},
   "outputs": [
    {
     "data": {
      "text/plain": [
       "array([[72, 73, 74, 75],\n",
       "       [62, 63, 64, 65],\n",
       "       [52, 53, 54, 55],\n",
       "       [42, 43, 44, 45]])"
      ]
     },
     "execution_count": 206,
     "metadata": {},
     "output_type": "execute_result"
    }
   ],
   "source": [
    "e=b[2:6,1:5]\n",
    "e"
   ]
  },
  {
   "cell_type": "code",
   "execution_count": 207,
   "id": "79b57d00-3f01-4e33-b746-558194bf3656",
   "metadata": {},
   "outputs": [
    {
     "data": {
      "text/plain": [
       "array([[84, 86, 88, 90],\n",
       "       [84, 86, 88, 90],\n",
       "       [84, 86, 88, 90],\n",
       "       [84, 86, 88, 90]])"
      ]
     },
     "execution_count": 207,
     "metadata": {},
     "output_type": "execute_result"
    }
   ],
   "source": [
    "d+e"
   ]
  },
  {
   "cell_type": "code",
   "execution_count": 208,
   "id": "16b30069-d454-4160-8440-0c0ca0a7d501",
   "metadata": {},
   "outputs": [
    {
     "data": {
      "text/plain": [
       "array([[-60, -60, -60, -60],\n",
       "       [-40, -40, -40, -40],\n",
       "       [-20, -20, -20, -20],\n",
       "       [  0,   0,   0,   0]])"
      ]
     },
     "execution_count": 208,
     "metadata": {},
     "output_type": "execute_result"
    }
   ],
   "source": [
    "d-e"
   ]
  },
  {
   "cell_type": "code",
   "execution_count": 209,
   "id": "e0f9c349-3150-4ca3-91ae-4f2136777930",
   "metadata": {},
   "outputs": [
    {
     "data": {
      "text/plain": [
       "array([[ 864,  949, 1036, 1125],\n",
       "       [1364, 1449, 1536, 1625],\n",
       "       [1664, 1749, 1836, 1925],\n",
       "       [1764, 1849, 1936, 2025]])"
      ]
     },
     "execution_count": 209,
     "metadata": {},
     "output_type": "execute_result"
    }
   ],
   "source": [
    "d*e"
   ]
  },
  {
   "cell_type": "code",
   "execution_count": 210,
   "id": "9421bda2-0f7c-4d22-bf16-43a0da4e4f9e",
   "metadata": {},
   "outputs": [
    {
     "name": "stdout",
     "output_type": "stream",
     "text": [
      "[[12 13 14 15]\n",
      " [22 23 24 25]\n",
      " [32 33 34 35]\n",
      " [42 43 44 45]]\n",
      "[[72 73 74 75]\n",
      " [62 63 64 65]\n",
      " [52 53 54 55]\n",
      " [42 43 44 45]]\n"
     ]
    },
    {
     "data": {
      "text/plain": [
       "array([[ 3028,  3082,  3136,  3190],\n",
       "       [ 5308,  5402,  5496,  5590],\n",
       "       [ 7588,  7722,  7856,  7990],\n",
       "       [ 9868, 10042, 10216, 10390]])"
      ]
     },
     "execution_count": 210,
     "metadata": {},
     "output_type": "execute_result"
    }
   ],
   "source": [
    "print(d)\n",
    "print(e)\n",
    "result=np.dot(d,e)\n",
    "result"
   ]
  },
  {
   "cell_type": "markdown",
   "id": "96176f7c-87cc-4dd9-8bdc-ae818803fa25",
   "metadata": {},
   "source": [
    "# Row and column multipication function"
   ]
  },
  {
   "cell_type": "code",
   "execution_count": 212,
   "id": "420ce37d-b51f-48cd-bafb-d2700158fe79",
   "metadata": {},
   "outputs": [
    {
     "data": {
      "text/plain": [
       "array([[ 0,  1,  2,  3,  4,  5],\n",
       "       [ 6,  7,  8,  9, 10, 11],\n",
       "       [12, 13, 14, 15, 16, 17],\n",
       "       [18, 19, 20, 21, 22, 23],\n",
       "       [24, 25, 26, 27, 28, 29]])"
      ]
     },
     "execution_count": 212,
     "metadata": {},
     "output_type": "execute_result"
    }
   ],
   "source": [
    "w"
   ]
  },
  {
   "cell_type": "code",
   "execution_count": 213,
   "id": "55e8e74a-f34a-470e-b414-296ca98e2987",
   "metadata": {},
   "outputs": [
    {
     "data": {
      "text/plain": [
       "array([[1, 2],\n",
       "       [7, 8]])"
      ]
     },
     "execution_count": 213,
     "metadata": {},
     "output_type": "execute_result"
    }
   ],
   "source": [
    "d=w[0:2,1:3]\n",
    "d"
   ]
  },
  {
   "cell_type": "code",
   "execution_count": 214,
   "id": "f777da9d-1ad1-4128-8c9b-58173c6ffaf2",
   "metadata": {},
   "outputs": [
    {
     "data": {
      "text/plain": [
       "array([[12, 13],\n",
       "       [18, 19]])"
      ]
     },
     "execution_count": 214,
     "metadata": {},
     "output_type": "execute_result"
    }
   ],
   "source": [
    "e=w[2:4,0:2]\n",
    "e"
   ]
  },
  {
   "cell_type": "code",
   "execution_count": 215,
   "id": "fa681762-1cf9-424d-a939-9890646c7d9c",
   "metadata": {},
   "outputs": [
    {
     "data": {
      "text/plain": [
       "array([[ 48,  51],\n",
       "       [228, 243]])"
      ]
     },
     "execution_count": 215,
     "metadata": {},
     "output_type": "execute_result"
    }
   ],
   "source": [
    "np.dot(d,e)"
   ]
  },
  {
   "cell_type": "markdown",
   "id": "d19cd751-7d5c-43ad-9cf6-ba3a344aeb9c",
   "metadata": {},
   "source": [
    "# Plotting graph in Matrix"
   ]
  },
  {
   "cell_type": "code",
   "execution_count": 217,
   "id": "9435ec8a-847c-4895-aa89-573a858347ea",
   "metadata": {},
   "outputs": [
    {
     "data": {
      "text/plain": [
       "array([-10.        ,  -8.94736842,  -7.89473684,  -6.84210526,\n",
       "        -5.78947368,  -4.73684211,  -3.68421053,  -2.63157895,\n",
       "        -1.57894737,  -0.52631579,   0.52631579,   1.57894737,\n",
       "         2.63157895,   3.68421053,   4.73684211,   5.78947368,\n",
       "         6.84210526,   7.89473684,   8.94736842,  10.        ])"
      ]
     },
     "execution_count": 217,
     "metadata": {},
     "output_type": "execute_result"
    }
   ],
   "source": [
    "x=np.linspace(-10,10,20)\n",
    "x"
   ]
  },
  {
   "cell_type": "code",
   "execution_count": 218,
   "id": "fb17b950-f1bf-48e8-a74e-17f3368d9afa",
   "metadata": {},
   "outputs": [],
   "source": [
    "y=x"
   ]
  },
  {
   "cell_type": "code",
   "execution_count": 219,
   "id": "f9361bd2-b66a-4637-97c7-d74d307dd165",
   "metadata": {},
   "outputs": [
    {
     "data": {
      "text/plain": [
       "[<matplotlib.lines.Line2D at 0x2038a97c3e0>]"
      ]
     },
     "execution_count": 219,
     "metadata": {},
     "output_type": "execute_result"
    },
    {
     "data": {
      "image/png": "[encoded data removed]",
      "text/plain": [
       "<Figure size 640x480 with 1 Axes>"
      ]
     },
     "metadata": {},
     "output_type": "display_data"
    }
   ],
   "source": [
    "import matplotlib.pyplot as plt\n",
    "plt.plot(x,y)"
   ]
  },
  {
   "cell_type": "code",
   "execution_count": 220,
   "id": "ef801d66-73e2-4c26-b623-59d89efd77ca",
   "metadata": {},
   "outputs": [
    {
     "name": "stdout",
     "output_type": "stream",
     "text": [
      "[ 0.  5. 10. 15. 20.]\n"
     ]
    }
   ],
   "source": [
    "a=np.linspace(0,20,5)\n",
    "print(a)\n",
    "b=a"
   ]
  },
  {
   "cell_type": "code",
   "execution_count": 221,
   "id": "e430051e-237a-4939-81c7-fa6c550d0a43",
   "metadata": {},
   "outputs": [
    {
     "data": {
      "text/plain": [
       "[<matplotlib.lines.Line2D at 0x2038a9dc980>]"
      ]
     },
     "execution_count": 221,
     "metadata": {},
     "output_type": "execute_result"
    },
    {
     "data": {
      "image/png": "[encoded data removed]",
      "text/plain": [
       "<Figure size 640x480 with 1 Axes>"
      ]
     },
     "metadata": {},
     "output_type": "display_data"
    }
   ],
   "source": [
    "plt.plot(x,y)"
   ]
  },
  {
   "cell_type": "code",
   "execution_count": 222,
   "id": "2c69da0e-c32e-4f2e-9045-0c1ec569d6f6",
   "metadata": {},
   "outputs": [
    {
     "data": {
      "text/plain": [
       "array([-10.        ,  -8.94736842,  -7.89473684,  -6.84210526,\n",
       "        -5.78947368,  -4.73684211,  -3.68421053,  -2.63157895,\n",
       "        -1.57894737,  -0.52631579,   0.52631579,   1.57894737,\n",
       "         2.63157895,   3.68421053,   4.73684211,   5.78947368,\n",
       "         6.84210526,   7.89473684,   8.94736842,  10.        ])"
      ]
     },
     "execution_count": 222,
     "metadata": {},
     "output_type": "execute_result"
    }
   ],
   "source": [
    "x"
   ]
  },
  {
   "cell_type": "code",
   "execution_count": 223,
   "id": "7fa8d315-34c0-4c77-ad7f-39de447b958b",
   "metadata": {},
   "outputs": [],
   "source": [
    "y=x**2"
   ]
  },
  {
   "cell_type": "code",
   "execution_count": 224,
   "id": "9934ffd5-a2af-4377-ad8c-6f76cc3ceab4",
   "metadata": {},
   "outputs": [
    {
     "data": {
      "text/plain": [
       "array([100.        ,  80.05540166,  62.32686981,  46.81440443,\n",
       "        33.51800554,  22.43767313,  13.5734072 ,   6.92520776,\n",
       "         2.49307479,   0.27700831,   0.27700831,   2.49307479,\n",
       "         6.92520776,  13.5734072 ,  22.43767313,  33.51800554,\n",
       "        46.81440443,  62.32686981,  80.05540166, 100.        ])"
      ]
     },
     "execution_count": 224,
     "metadata": {},
     "output_type": "execute_result"
    }
   ],
   "source": [
    "y"
   ]
  },
  {
   "cell_type": "code",
   "execution_count": 225,
   "id": "4cc50d82-5e1e-47e5-8bde-357d47254c7c",
   "metadata": {},
   "outputs": [
    {
     "data": {
      "text/plain": [
       "[<matplotlib.lines.Line2D at 0x2038b2cf680>]"
      ]
     },
     "execution_count": 225,
     "metadata": {},
     "output_type": "execute_result"
    },
    {
     "data": {
      "image/png": "[encoded data removed]",
      "text/plain": [
       "<Figure size 640x480 with 1 Axes>"
      ]
     },
     "metadata": {},
     "output_type": "display_data"
    }
   ],
   "source": [
    "plt.plot(x,y)"
   ]
  },
  {
   "cell_type": "code",
   "execution_count": 226,
   "id": "be1040ab-7f6b-4be5-9986-546b48f96e15",
   "metadata": {},
   "outputs": [
    {
     "data": {
      "text/plain": [
       "array([-10.        ,  -8.94736842,  -7.89473684,  -6.84210526,\n",
       "        -5.78947368,  -4.73684211,  -3.68421053,  -2.63157895,\n",
       "        -1.57894737,  -0.52631579,   0.52631579,   1.57894737,\n",
       "         2.63157895,   3.68421053,   4.73684211,   5.78947368,\n",
       "         6.84210526,   7.89473684,   8.94736842,  10.        ])"
      ]
     },
     "execution_count": 226,
     "metadata": {},
     "output_type": "execute_result"
    }
   ],
   "source": [
    "x"
   ]
  },
  {
   "cell_type": "code",
   "execution_count": 227,
   "id": "f6c81f31-8fdc-4052-8880-61178ca7fee1",
   "metadata": {},
   "outputs": [],
   "source": [
    "y=np.sin(x)"
   ]
  },
  {
   "cell_type": "code",
   "execution_count": 228,
   "id": "c724e436-66b8-4395-842d-6792885be0b5",
   "metadata": {},
   "outputs": [
    {
     "data": {
      "text/plain": [
       "[<matplotlib.lines.Line2D at 0x2038b359d00>]"
      ]
     },
     "execution_count": 228,
     "metadata": {},
     "output_type": "execute_result"
    },
    {
     "data": {
      "image/png": "[encoded data removed]",
      "text/plain": [
       "<Figure size 640x480 with 1 Axes>"
      ]
     },
     "metadata": {},
     "output_type": "display_data"
    }
   ],
   "source": [
    "plt.plot(x,y)"
   ]
  },
  {
   "cell_type": "code",
   "execution_count": 229,
   "id": "450f087e-a5a5-447a-875f-343b5ca8eb98",
   "metadata": {},
   "outputs": [],
   "source": [
    "d=np.linspace(0,13,5)"
   ]
  },
  {
   "cell_type": "code",
   "execution_count": 230,
   "id": "cf9eb3d3-5e5f-4c9c-95df-0a1940854b06",
   "metadata": {},
   "outputs": [
    {
     "data": {
      "text/plain": [
       "array([ 0.  ,  3.25,  6.5 ,  9.75, 13.  ])"
      ]
     },
     "execution_count": 230,
     "metadata": {},
     "output_type": "execute_result"
    }
   ],
   "source": [
    "d"
   ]
  },
  {
   "cell_type": "code",
   "execution_count": 231,
   "id": "c80cdc4f-f90d-4ee9-9f8c-02ffabeaded9",
   "metadata": {},
   "outputs": [],
   "source": [
    "e=d"
   ]
  },
  {
   "cell_type": "code",
   "execution_count": 232,
   "id": "a15e42da-8f11-4bad-823f-a524d2db5e8a",
   "metadata": {},
   "outputs": [
    {
     "data": {
      "text/plain": [
       "[<matplotlib.lines.Line2D at 0x2038c3ae2a0>]"
      ]
     },
     "execution_count": 232,
     "metadata": {},
     "output_type": "execute_result"
    },
    {
     "data": {
      "image/png": "[encoded data removed]",
      "text/plain": [
       "<Figure size 640x480 with 1 Axes>"
      ]
     },
     "metadata": {},
     "output_type": "display_data"
    }
   ],
   "source": [
    "plt.plot(d,e)"
   ]
  },
  {
   "cell_type": "code",
   "execution_count": 233,
   "id": "45304cc3-283c-4462-ae33-4c250338a208",
   "metadata": {},
   "outputs": [
    {
     "data": {
      "text/plain": [
       "array([ 0.  ,  3.25,  6.5 ,  9.75, 13.  ])"
      ]
     },
     "execution_count": 233,
     "metadata": {},
     "output_type": "execute_result"
    }
   ],
   "source": [
    "d"
   ]
  },
  {
   "cell_type": "code",
   "execution_count": 234,
   "id": "5f175374-8238-4bd2-b397-c88b0b5d004c",
   "metadata": {},
   "outputs": [],
   "source": [
    "e =d**2"
   ]
  },
  {
   "cell_type": "code",
   "execution_count": 235,
   "id": "74ad1943-d31f-45ee-a475-cada39d85f40",
   "metadata": {},
   "outputs": [
    {
     "data": {
      "text/plain": [
       "[<matplotlib.lines.Line2D at 0x2038c3ef5c0>]"
      ]
     },
     "execution_count": 235,
     "metadata": {},
     "output_type": "execute_result"
    },
    {
     "data": {
      "image/png": "[encoded data removed]",
      "text/plain": [
       "<Figure size 640x480 with 1 Axes>"
      ]
     },
     "metadata": {},
     "output_type": "display_data"
    }
   ],
   "source": [
    "plt.plot(d,e)"
   ]
  },
  {
   "cell_type": "code",
   "execution_count": 236,
   "id": "65e8ae1f-0b5c-4ab4-8c7a-a6bab4a4970e",
   "metadata": {},
   "outputs": [],
   "source": [
    "e =d%6 "
   ]
  },
  {
   "cell_type": "code",
   "execution_count": 237,
   "id": "5e903b95-879e-4790-ad40-18c070b29258",
   "metadata": {},
   "outputs": [
    {
     "data": {
      "text/plain": [
       "[<matplotlib.lines.Line2D at 0x2038c4a4a40>]"
      ]
     },
     "execution_count": 237,
     "metadata": {},
     "output_type": "execute_result"
    },
    {
     "data": {
      "image/png": "[encoded data removed]",
      "text/plain": [
       "<Figure size 640x480 with 1 Axes>"
      ]
     },
     "metadata": {},
     "output_type": "display_data"
    }
   ],
   "source": [
    "plt.plot(d,e)"
   ]
  },
  {
   "cell_type": "code",
   "execution_count": null,
   "id": "9e285a95-d5b4-4a9e-9b5e-55b4b807b3fd",
   "metadata": {},
   "outputs": [],
   "source": []
  }
 ],
 "metadata": {
  "kernelspec": {
   "display_name": "Python 3 (ipykernel)",
   "language": "python",
   "name": "python3"
  },
  "language_info": {
   "codemirror_mode": {
    "name": "ipython",
    "version": 3
   },
   "file_extension": ".py",
   "mimetype": "text/x-python",
   "name": "python",
   "nbconvert_exporter": "python",
   "pygments_lexer": "ipython3",
   "version": "3.12.7"
  }
 },
 "nbformat": 4,
 "nbformat_minor": 5
}
